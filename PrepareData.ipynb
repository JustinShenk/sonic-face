{
 "cells": [
  {
   "cell_type": "markdown",
   "metadata": {},
   "source": [
    "## Load the Motion Data\n",
    "\n",
    "Data is in x and y coordinates for each pixel. Each sample will be an array of 10 (frames) x 40 x 40 (capture window) x 2 (x and y) dimensions. "
   ]
  },
  {
   "cell_type": "code",
   "execution_count": 139,
   "metadata": {
    "collapsed": false
   },
   "outputs": [],
   "source": [
    "import numpy as np\n",
    "import os\n",
    "import matplotlib\n",
    "import pandas as pd\n",
    "matplotlib.use('TkAgg') # For displaying animation\n",
    "import matplotlib.pyplot as plt\n",
    "import matplotlib.animation as animation\n",
    "\n",
    "from sklearn.tree import DecisionTreeClassifier, export_graphviz\n",
    "from helper_functions import *\n",
    "from normalize_data import *\n",
    "from integral_try import *\n",
    "from numpy import array\n",
    "from sklearn import preprocessing as pp\n",
    "from sklearn.ensemble import RandomForestClassifier\n",
    "from sklearn.model_selection import train_test_split"
   ]
  },
  {
   "cell_type": "code",
   "execution_count": 38,
   "metadata": {
    "collapsed": false
   },
   "outputs": [
    {
     "name": "stdout",
     "output_type": "stream",
     "text": [
      "Incomplete data sample found at  /Users/justinshenk/Projects/dance/sonic_pi_face/data/2017-05-30_130721_open-close.txt\n",
      "Incomplete data sample found at  /Users/justinshenk/Projects/dance/sonic_pi_face/data/2017-05-30_131354_open-close.txt\n",
      "Incomplete data sample found at  /Users/justinshenk/Projects/dance/sonic_pi_face/data/2017-05-30_163658_open-close.txt\n",
      "Incomplete data sample found at  /Users/justinshenk/Projects/dance/sonic_pi_face/data/2017-05-30_164242_open-close.txt\n",
      "Incomplete data sample found at  /Users/justinshenk/Projects/dance/sonic_pi_face/data/2017-05-30_164306_open-close.txt\n",
      "Incomplete data sample found at  /Users/justinshenk/Projects/dance/sonic_pi_face/data/2017-05-30_164406_open-close.txt\n",
      "Incomplete data sample found at  /Users/justinshenk/Projects/dance/sonic_pi_face/data/2017-06-12_135653_slide-horizontally.txt\n",
      "(134, 10, 40, 40, 2)\n",
      "(10, 40, 40, 2)\n",
      "Example integral of the 1st quarter of one frame:  [-1222.4244   384.6063]\n"
     ]
    }
   ],
   "source": [
    "data_dir = 'sonic_pi_face/data/'\n",
    "\n",
    "# Get list of data files\n",
    "data_files = get_data_files(data_dir)\n",
    "\n",
    "# Load data into a dictionary\n",
    "# Note: Checks for incomplete data\n",
    "data = get_gesture_data(data_files)\n",
    "\n",
    "# Normalize data across data samples and frames (x and y will be normalized independently)\n",
    "# data = normalize_data(data)\n",
    "print(np.shape(data['open-close']))\n",
    "\n",
    "# Load first data sample from `open-close`\n",
    "sample = data['open-close'][0]\n",
    "print(np.shape(sample))\n",
    "\n",
    "# calculate the integral image\n",
    "iimage = i_image(sample[4])\n",
    "\n",
    "# calculate the integral for the first quarter from the integral image\n",
    "try_integral = get_integral(iimage,0,0,20,20)\n",
    "\n",
    "print('Example integral of the 1st quarter of one frame: ' , try_integral)"
   ]
  },
  {
   "cell_type": "markdown",
   "metadata": {},
   "source": [
    "## Visualize horizontal motion across frames"
   ]
  },
  {
   "cell_type": "code",
   "execution_count": 39,
   "metadata": {
    "collapsed": false,
    "scrolled": false
   },
   "outputs": [],
   "source": [
    "sample = data['open-close'][121] # Fifth sample\n",
    "frame = sample[5][:,:,0] # Middle frame\n",
    "# Note: Second argument takes 0 for `x`, 1 for `y` coordinate\n",
    "# display_frames(sample,0) "
   ]
  },
  {
   "cell_type": "markdown",
   "metadata": {},
   "source": [
    "## Random forest classification"
   ]
  },
  {
   "cell_type": "markdown",
   "metadata": {},
   "source": [
    "Create training and test data split for classification"
   ]
  },
  {
   "cell_type": "code",
   "execution_count": 105,
   "metadata": {
    "collapsed": true
   },
   "outputs": [],
   "source": [
    "def get_data(data, key):\n",
    "    data_list = data[key]\n",
    "    data_array = np.asarray(data_list)\n",
    "\n",
    "    # Flatten array to n x 32000\n",
    "    flattened_data = data_array.reshape((len(data_array),10*1600*2))\n",
    "    return flattened_data\n",
    "\n",
    "def scale(data, target_gesture):\n",
    "    data *= (np.max(target_gesture) + np.abs(np.min(target_gesture))) - np.min(target_gesture)\n",
    "    return data"
   ]
  },
  {
   "cell_type": "code",
   "execution_count": 106,
   "metadata": {
    "collapsed": false
   },
   "outputs": [],
   "source": [
    "# Load target gesture data\n",
    "open_close_X = get_data(data, 'open-close')\n",
    "open_close_Y = np.ones((len(open_close)))"
   ]
  },
  {
   "cell_type": "code",
   "execution_count": 107,
   "metadata": {
    "collapsed": false
   },
   "outputs": [],
   "source": [
    "# Load empty (no-gesture) data\n",
    "empty_X = get_data(data, 'empty')\n",
    "empty_Y = np.zeros(len(empty_X))"
   ]
  },
  {
   "cell_type": "code",
   "execution_count": 108,
   "metadata": {
    "collapsed": false
   },
   "outputs": [],
   "source": [
    "# Load other gesture\n",
    "slide_horizontal_X = get_data(data,'slide-horizontally')\n",
    "slide_horizontal_Y = np.zeros((len(slide_horizontal_X)))"
   ]
  },
  {
   "cell_type": "code",
   "execution_count": null,
   "metadata": {
    "collapsed": true
   },
   "outputs": [],
   "source": [
    "# TODO: Evaluate mock data aids classification in practice\n",
    "# create random mock data\n",
    "# sham_X = np.random.randn(*open_close_X.shape)\n",
    "# # scale as original data\n",
    "# sham_X = scale(sham_X, open_close_X)\n",
    "# sham_Y = np.zeros((len(sham_X)))\n",
    "\n",
    "X = np.vstack([open_close_X, empty_X, slide_horizontal_X])\n",
    "Y = np.hstack([open_close_Y, empty_Y, slide_horizontal_Y])\n",
    "\n",
    "# Split data into train and test\n",
    "X_train, X_test, y_train, y_test = train_test_split(X, Y, random_state=42)\n",
    "\n",
    "# Classify test data using random forest\n",
    "clf = RandomForestClassifier(n_estimators=10)\n",
    "clf = clf.fit(X_train, y_train)\n",
    "clf.score(X_test,y_test)"
   ]
  },
  {
   "cell_type": "markdown",
   "metadata": {},
   "source": [
    "## Pandas dataframes for organizing the data"
   ]
  },
  {
   "cell_type": "code",
   "execution_count": null,
   "metadata": {
    "collapsed": false
   },
   "outputs": [],
   "source": [
    "# TODO: Convert all code to pandas for flexibility and display\n",
    "label = pd.Series(['Open']*len(open_close_X))\n",
    "df_open = pd.DataFrame(open_close_X)\n",
    "df_open['label'] = label\n",
    "\n",
    "label = pd.Series(['Empty']*len(empty_X))\n",
    "df_empty = pd.DataFrame(empty_X)\n",
    "df_empty['label'] = label\n",
    "\n",
    "label = pd.Series(['Slide-H']*len(slide_horizontal_X))\n",
    "df_slide_h = pd.DataFrame(slide_horizontal_X)\n",
    "df_slide_h['label'] = label\n",
    "\n",
    "df_X = pd.DataFrame()\n",
    "df_X = df_X.append([df_open,df_empty,df_slide_h])\n",
    "\n",
    "def encode_target(df, target_column):\n",
    "    \"\"\"Add column to df with integers for the target.\n",
    "\n",
    "    Args\n",
    "    ----\n",
    "    df -- pandas DataFrame.\n",
    "    target_column -- column to map to int, producing\n",
    "                     new Target column.\n",
    "\n",
    "    Returns\n",
    "    -------\n",
    "    df_mod -- modified DataFrame.\n",
    "    targets -- list of target names.\n",
    "    \"\"\"\n",
    "    df_mod = df.copy()\n",
    "    targets = df_mod[target_column].unique()\n",
    "    map_to_int = {name: n for n, name in enumerate(targets)}\n",
    "    df_mod[\"Target\"] = df_mod[target_column].replace(map_to_int)\n",
    "\n",
    "    return (df_mod, targets)\n",
    "\n",
    "df2, targets = encode_target(df_X, \"label\")"
   ]
  },
  {
   "cell_type": "markdown",
   "metadata": {},
   "source": [
    "## [WIP] Decision Tree Visualization\n"
   ]
  },
  {
   "cell_type": "code",
   "execution_count": 142,
   "metadata": {
    "collapsed": false
   },
   "outputs": [
    {
     "ename": "IndexError",
     "evalue": "index 30154 is out of bounds for axis 0 with size 359",
     "output_type": "error",
     "traceback": [
      "\u001b[0;31m---------------------------------------------------------------------------\u001b[0m",
      "\u001b[0;31mIndexError\u001b[0m                                Traceback (most recent call last)",
      "\u001b[0;32m<ipython-input-142-4cd4f8712f88>\u001b[0m in \u001b[0;36m<module>\u001b[0;34m()\u001b[0m\n\u001b[1;32m     17\u001b[0m         exit(\"Could not run dot, ie graphviz, to \"\n\u001b[1;32m     18\u001b[0m              \"produce visualization\")\n\u001b[0;32m---> 19\u001b[0;31m \u001b[0mvisualize_tree\u001b[0m\u001b[0;34m(\u001b[0m\u001b[0mdt\u001b[0m\u001b[0;34m,\u001b[0m\u001b[0mfeatures\u001b[0m\u001b[0;34m)\u001b[0m\u001b[0;34m\u001b[0m\u001b[0m\n\u001b[0m",
      "\u001b[0;32m<ipython-input-142-4cd4f8712f88>\u001b[0m in \u001b[0;36mvisualize_tree\u001b[0;34m(tree, feature_names)\u001b[0m\n\u001b[1;32m      9\u001b[0m     \u001b[0;32mwith\u001b[0m \u001b[0mopen\u001b[0m\u001b[0;34m(\u001b[0m\u001b[0;34m\"dt.dot\"\u001b[0m\u001b[0;34m,\u001b[0m \u001b[0;34m'w'\u001b[0m\u001b[0;34m)\u001b[0m \u001b[0;32mas\u001b[0m \u001b[0mf\u001b[0m\u001b[0;34m:\u001b[0m\u001b[0;34m\u001b[0m\u001b[0m\n\u001b[1;32m     10\u001b[0m         export_graphviz(tree, out_file=f,\n\u001b[0;32m---> 11\u001b[0;31m                         feature_names=feature_names)\n\u001b[0m\u001b[1;32m     12\u001b[0m \u001b[0;34m\u001b[0m\u001b[0m\n\u001b[1;32m     13\u001b[0m     \u001b[0mcommand\u001b[0m \u001b[0;34m=\u001b[0m \u001b[0;34m[\u001b[0m\u001b[0;34m\"dot\"\u001b[0m\u001b[0;34m,\u001b[0m \u001b[0;34m\"-Tpng\"\u001b[0m\u001b[0;34m,\u001b[0m \u001b[0;34m\"dt.dot\"\u001b[0m\u001b[0;34m,\u001b[0m \u001b[0;34m\"-o\"\u001b[0m\u001b[0;34m,\u001b[0m \u001b[0;34m\"dt.png\"\u001b[0m\u001b[0;34m]\u001b[0m\u001b[0;34m\u001b[0m\u001b[0m\n",
      "\u001b[0;32m/Users/justinshenk/anaconda3/envs/cvloop/lib/python3.5/site-packages/sklearn/tree/export.py\u001b[0m in \u001b[0;36mexport_graphviz\u001b[0;34m(decision_tree, out_file, max_depth, feature_names, class_names, label, filled, leaves_parallel, impurity, node_ids, proportion, rotate, rounded, special_characters)\u001b[0m\n\u001b[1;32m    431\u001b[0m             \u001b[0mrecurse\u001b[0m\u001b[0;34m(\u001b[0m\u001b[0mdecision_tree\u001b[0m\u001b[0;34m,\u001b[0m \u001b[0;36m0\u001b[0m\u001b[0;34m,\u001b[0m \u001b[0mcriterion\u001b[0m\u001b[0;34m=\u001b[0m\u001b[0;34m\"impurity\"\u001b[0m\u001b[0;34m)\u001b[0m\u001b[0;34m\u001b[0m\u001b[0m\n\u001b[1;32m    432\u001b[0m         \u001b[0;32melse\u001b[0m\u001b[0;34m:\u001b[0m\u001b[0;34m\u001b[0m\u001b[0m\n\u001b[0;32m--> 433\u001b[0;31m             \u001b[0mrecurse\u001b[0m\u001b[0;34m(\u001b[0m\u001b[0mdecision_tree\u001b[0m\u001b[0;34m.\u001b[0m\u001b[0mtree_\u001b[0m\u001b[0;34m,\u001b[0m \u001b[0;36m0\u001b[0m\u001b[0;34m,\u001b[0m \u001b[0mcriterion\u001b[0m\u001b[0;34m=\u001b[0m\u001b[0mdecision_tree\u001b[0m\u001b[0;34m.\u001b[0m\u001b[0mcriterion\u001b[0m\u001b[0;34m)\u001b[0m\u001b[0;34m\u001b[0m\u001b[0m\n\u001b[0m\u001b[1;32m    434\u001b[0m \u001b[0;34m\u001b[0m\u001b[0m\n\u001b[1;32m    435\u001b[0m         \u001b[0;31m# If required, draw leaf nodes at same depth as each other\u001b[0m\u001b[0;34m\u001b[0m\u001b[0;34m\u001b[0m\u001b[0m\n",
      "\u001b[0;32m/Users/justinshenk/anaconda3/envs/cvloop/lib/python3.5/site-packages/sklearn/tree/export.py\u001b[0m in \u001b[0;36mrecurse\u001b[0;34m(tree, node_id, criterion, parent, depth)\u001b[0m\n\u001b[1;32m    319\u001b[0m             out_file.write('%d [label=%s'\n\u001b[1;32m    320\u001b[0m                            % (node_id,\n\u001b[0;32m--> 321\u001b[0;31m                               node_to_str(tree, node_id, criterion)))\n\u001b[0m\u001b[1;32m    322\u001b[0m \u001b[0;34m\u001b[0m\u001b[0m\n\u001b[1;32m    323\u001b[0m             \u001b[0;32mif\u001b[0m \u001b[0mfilled\u001b[0m\u001b[0;34m:\u001b[0m\u001b[0;34m\u001b[0m\u001b[0m\n",
      "\u001b[0;32m/Users/justinshenk/anaconda3/envs/cvloop/lib/python3.5/site-packages/sklearn/tree/export.py\u001b[0m in \u001b[0;36mnode_to_str\u001b[0;34m(tree, node_id, criterion)\u001b[0m\n\u001b[1;32m    217\u001b[0m             \u001b[0;31m# Always write node decision criteria, except for leaves\u001b[0m\u001b[0;34m\u001b[0m\u001b[0;34m\u001b[0m\u001b[0m\n\u001b[1;32m    218\u001b[0m             \u001b[0;32mif\u001b[0m \u001b[0mfeature_names\u001b[0m \u001b[0;32mis\u001b[0m \u001b[0;32mnot\u001b[0m \u001b[0;32mNone\u001b[0m\u001b[0;34m:\u001b[0m\u001b[0;34m\u001b[0m\u001b[0m\n\u001b[0;32m--> 219\u001b[0;31m                 \u001b[0mfeature\u001b[0m \u001b[0;34m=\u001b[0m \u001b[0mfeature_names\u001b[0m\u001b[0;34m[\u001b[0m\u001b[0mtree\u001b[0m\u001b[0;34m.\u001b[0m\u001b[0mfeature\u001b[0m\u001b[0;34m[\u001b[0m\u001b[0mnode_id\u001b[0m\u001b[0;34m]\u001b[0m\u001b[0;34m]\u001b[0m\u001b[0;34m\u001b[0m\u001b[0m\n\u001b[0m\u001b[1;32m    220\u001b[0m             \u001b[0;32melse\u001b[0m\u001b[0;34m:\u001b[0m\u001b[0;34m\u001b[0m\u001b[0m\n\u001b[1;32m    221\u001b[0m                 feature = \"X%s%s%s\" % (characters[1],\n",
      "\u001b[0;31mIndexError\u001b[0m: index 30154 is out of bounds for axis 0 with size 359"
     ]
    }
   ],
   "source": [
    "# FIXME: Test once number of features is less than 360\n",
    "\n",
    "# Get features\n",
    "features = df2.iloc[:, 0:-2].values\n",
    "y = df2[\"Target\"]\n",
    "dt = DecisionTreeClassifier(min_samples_split=20, random_state=99)\n",
    "dt.fit(X, y)\n",
    "\n",
    "def visualize_tree(tree, feature_names):\n",
    "    \"\"\"Create tree png using graphviz.\n",
    "\n",
    "    Args\n",
    "    ----\n",
    "    tree -- scikit-learn DecsisionTree.\n",
    "    feature_names -- list of feature names.\n",
    "    \"\"\"\n",
    "    with open(\"dt.dot\", 'w') as f:\n",
    "        export_graphviz(tree, out_file=f,\n",
    "                        feature_names=feature_names)\n",
    "\n",
    "    command = [\"dot\", \"-Tpng\", \"dt.dot\", \"-o\", \"dt.png\"]\n",
    "    try:\n",
    "        subprocess.check_call(command)\n",
    "    except:\n",
    "        exit(\"Could not run dot, ie graphviz, to \"\n",
    "             \"produce visualization\")\n",
    "visualize_tree(dt,features)"
   ]
  },
  {
   "cell_type": "code",
   "execution_count": null,
   "metadata": {
    "collapsed": true
   },
   "outputs": [],
   "source": []
  }
 ],
 "metadata": {
  "anaconda-cloud": {},
  "kernelspec": {
   "display_name": "Python [default]",
   "language": "python",
   "name": "python3"
  },
  "language_info": {
   "codemirror_mode": {
    "name": "ipython",
    "version": 3
   },
   "file_extension": ".py",
   "mimetype": "text/x-python",
   "name": "python",
   "nbconvert_exporter": "python",
   "pygments_lexer": "ipython3",
   "version": "3.5.2"
  }
 },
 "nbformat": 4,
 "nbformat_minor": 2
}

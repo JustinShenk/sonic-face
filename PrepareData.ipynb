{
 "cells": [
  {
   "cell_type": "markdown",
   "metadata": {},
   "source": [
    "## Load the Motion Data\n",
    "\n",
    "Data is in x and y coordinates for each pixel. Each sample will be an array of 10 (frames) x 40 x 40 (capture window) x 2 (x and y) dimensions. "
   ]
  },
  {
   "cell_type": "code",
   "execution_count": null,
   "metadata": {
    "collapsed": true
   },
   "outputs": [],
   "source": [
    "import numpy as np\n",
    "import os\n",
    "import matplotlib\n",
    "matplotlib.use('TkAgg') # For displaying animation\n",
    "import pandas as pd\n",
    "import matplotlib.pyplot as plt\n",
    "import matplotlib.animation as animation\n",
    "\n",
    "from sklearn.tree import DecisionTreeClassifier, export_graphviz\n",
    "from sklearn.neural_network import MLPClassifier as mlpc\n",
    "from sklearn import linear_model as lm\n",
    "from sklearn import svm as svm\n",
    "from helper_functions import *\n",
    "from normalize_data import *\n",
    "from integral_try import *\n",
    "from numpy import array\n",
    "from sklearn import preprocessing as pp\n",
    "from sklearn.ensemble import RandomForestClassifier, ExtraTreesClassifier, AdaBoostClassifier, BaggingClassifier, GradientBoostingClassifier\n",
    "from sklearn.model_selection import train_test_split\n",
    "\n",
    "# %matplotlib notebook # Enable when using in notebook"
   ]
  },
  {
   "cell_type": "code",
   "execution_count": null,
   "metadata": {
    "collapsed": true
   },
   "outputs": [],
   "source": [
    "data_dir = 'sonic_pi_face/data/'\n",
    "\n",
    "# Get list of data files\n",
    "data_files = get_data_files(data_dir)\n",
    "\n",
    "# Load data into a dictionary\n",
    "# Note: Checks for incomplete data\n",
    "data = get_gesture_data(data_files)\n",
    "\n",
    "# Normalize data across data samples and frames (x and y will be normalized independently)\n",
    "# data = normalize_data(data)\n",
    "print(np.shape(data['open-close']))\n",
    "\n",
    "# Load first data sample from `open-close`\n",
    "sample = data['open-close'][0]\n",
    "print(np.shape(sample))\n",
    "\n",
    "# calculate the integral image\n",
    "iimage = i_image(sample[4])\n",
    "\n",
    "# calculate the integral for the first quarter from the integral image\n",
    "try_integral = get_integral(iimage,0,0,20,20)\n",
    "\n",
    "print('Example integral of the 1st quarter of one frame: ', try_integral)"
   ]
  },
  {
   "cell_type": "markdown",
   "metadata": {},
   "source": [
    "## Visualize optical flow sample frame"
   ]
  },
  {
   "cell_type": "code",
   "execution_count": null,
   "metadata": {
    "collapsed": true
   },
   "outputs": [],
   "source": [
    "gestures = list(data)\n",
    "print(gestures) # List gestures\n",
    "sample = data['open-close'][3][5] # 5th Open-close sample\n",
    "image = sample[4] # 5th frame of sample"
   ]
  },
  {
   "cell_type": "markdown",
   "metadata": {},
   "source": [
    "## Visualize horizontal motion across frames"
   ]
  },
  {
   "cell_type": "code",
   "execution_count": null,
   "metadata": {
    "collapsed": true
   },
   "outputs": [],
   "source": [
    "sample = data['open-close'][5] # Fifth sample\n",
    "anim = display_frames(sample)\n",
    "# anim.save('open-close.gif',dpi=80, writer='imagemagick')"
   ]
  },
  {
   "cell_type": "markdown",
   "metadata": {},
   "source": [
    "## Extract features using integral image"
   ]
  },
  {
   "cell_type": "code",
   "execution_count": null,
   "metadata": {
    "collapsed": false,
    "scrolled": false
   },
   "outputs": [],
   "source": [
    "df_red = feature_extract(data) # Dataframe with 32 (16 * 2 (x and y coordinates)) dimensions"
   ]
  },
  {
   "cell_type": "markdown",
   "metadata": {},
   "source": [
    "## Feature optimization"
   ]
  },
  {
   "cell_type": "code",
   "execution_count": null,
   "metadata": {
    "collapsed": true
   },
   "outputs": [],
   "source": [
    "def reduce_dimensions(sample, rows = 4, cols = 4):\n",
    "    '''Reduce dimensions of images in `sample` using integral image.'''\n",
    "    array = np.zeros((10,rows*cols,2))\n",
    "    sections = []\n",
    "    for i in range(rows):\n",
    "        for j in range(cols):\n",
    "            x0 = (40//rows) * (i)\n",
    "            y0 = (40//rows) * (j)\n",
    "            x1 = (40//rows) * (i+1) -1\n",
    "            y1 = (40//rows) * (j+1) -1\n",
    "            point = np.array([x0,y0,x1,y1])\n",
    "            sections.append(point)\n",
    "    for ind,frame in enumerate(sample):\n",
    "        image = i_image(frame)\n",
    "        for sect_ind, section in enumerate(sections):\n",
    "            feature = get_integral(image, *section)\n",
    "            array[ind][sect_ind] = feature\n",
    "    return array"
   ]
  },
  {
   "cell_type": "code",
   "execution_count": null,
   "metadata": {
    "collapsed": false
   },
   "outputs": [],
   "source": [
    "# Compare random forest on various feature transormations\n",
    "data_sets = []\n",
    "dims = [1,2,3,4,5] # Number of cols and rows\n",
    "for rows in dims:\n",
    "    for cols in dims:\n",
    "        df_red = feature_extract(data,rows=rows,cols=cols)\n",
    "        data_sets.append(df_red)"
   ]
  },
  {
   "cell_type": "markdown",
   "metadata": {},
   "source": [
    "## Random forest classification"
   ]
  },
  {
   "cell_type": "markdown",
   "metadata": {},
   "source": [
    "Create training and test data split for classification"
   ]
  },
  {
   "cell_type": "code",
   "execution_count": null,
   "metadata": {
    "collapsed": true
   },
   "outputs": [],
   "source": [
    "def get_data(data, key):\n",
    "    data_list = data[key]\n",
    "    data_array = np.asarray(data_list)\n",
    "\n",
    "    # Flatten array to n x 32000\n",
    "    flattened_data = data_array.reshape((len(data_array),10*1600*2))\n",
    "    return flattened_data\n",
    "\n",
    "def scale(data, target_gesture):\n",
    "    data *= (np.max(target_gesture) + np.abs(np.min(target_gesture))) - np.min(target_gesture)\n",
    "    return data"
   ]
  },
  {
   "cell_type": "code",
   "execution_count": null,
   "metadata": {
    "collapsed": true
   },
   "outputs": [],
   "source": [
    "# Load target gesture data\n",
    "open_close_X = get_data(data, 'open-close')\n",
    "open_close_Y = np.ones((len(open_close_X)))"
   ]
  },
  {
   "cell_type": "code",
   "execution_count": null,
   "metadata": {
    "collapsed": true
   },
   "outputs": [],
   "source": [
    "# Load empty (no-gesture) data\n",
    "empty_X = get_data(data, 'empty')\n",
    "empty_Y = np.zeros(len(empty_X))"
   ]
  },
  {
   "cell_type": "code",
   "execution_count": null,
   "metadata": {
    "collapsed": true
   },
   "outputs": [],
   "source": [
    "# Load other gesture\n",
    "slide_horizontal_X = get_data(data,'slide-horizontally')\n",
    "slide_horizontal_Y = np.zeros((len(slide_horizontal_X)))"
   ]
  },
  {
   "cell_type": "code",
   "execution_count": null,
   "metadata": {
    "collapsed": true
   },
   "outputs": [],
   "source": [
    "labels = ['open-close','empty','slide_horizontal_X']\n",
    "X = np.vstack([open_close_X, empty_X, slide_horizontal_X])\n",
    "Y = np.hstack([open_close_Y, empty_Y, slide_horizontal_Y])\n",
    "\n",
    "# Split data into train and test\n",
    "X_train, X_test, y_train, y_test = train_test_split(X, Y, random_state=42)\n",
    "\n",
    "# Classify test data using random forest\n",
    "clf = RandomForestClassifier(n_estimators=10)\n",
    "clf = clf.fit(X_train, y_train)\n",
    "# clf.score(X_test,y_test)\n",
    "print(\"Predictions:\\n{}\".format(clf.predict(X_test)))\n",
    "print(\"Actual:\\n{}\".format(y_test))\n",
    "print(\"Score for {}:\\n{}\".format(labels,clf.score(X_test,y_test)))"
   ]
  },
  {
   "cell_type": "markdown",
   "metadata": {},
   "source": [
    "## Pandas dataframes for organizing the data"
   ]
  },
  {
   "cell_type": "code",
   "execution_count": null,
   "metadata": {
    "collapsed": true
   },
   "outputs": [],
   "source": [
    "def encode_target(df, target_column):\n",
    "    \"\"\"Add column to df with integers for the target.\n",
    "\n",
    "    Args\n",
    "    ----\n",
    "    df -- pandas DataFrame.\n",
    "    target_column -- column to map to int, producing\n",
    "                     new Target column.\n",
    "\n",
    "    Returns\n",
    "    -------\n",
    "    df_mod -- modified DataFrame.\n",
    "    targets -- list of target names.\n",
    "    \"\"\"\n",
    "    df_mod = df.copy()\n",
    "    targets = df_mod[target_column].unique()\n",
    "    map_to_int = {name: n for n, name in enumerate(targets)}\n",
    "    df_mod[\"Target\"] = df_mod[target_column].replace(map_to_int)\n",
    "\n",
    "    return (df_mod, targets)\n",
    "\n",
    "df2, targets = encode_target(df_red, \"label\")"
   ]
  },
  {
   "cell_type": "markdown",
   "metadata": {},
   "source": [
    "## Select labels for training and testing"
   ]
  },
  {
   "cell_type": "code",
   "execution_count": null,
   "metadata": {
    "collapsed": true
   },
   "outputs": [],
   "source": [
    "labels = targets[1:3]\n",
    "df3 = df2[df2['label'].isin(list(labels))]"
   ]
  },
  {
   "cell_type": "markdown",
   "metadata": {},
   "source": [
    "## Multiclass Random Forest Classification"
   ]
  },
  {
   "cell_type": "code",
   "execution_count": null,
   "metadata": {
    "collapsed": true
   },
   "outputs": [],
   "source": [
    "X = df3.drop(['Target','label'], axis=1)\n",
    "Y = df3['Target']"
   ]
  },
  {
   "cell_type": "code",
   "execution_count": null,
   "metadata": {
    "collapsed": true,
    "scrolled": false
   },
   "outputs": [],
   "source": [
    "# Split data into train and test\n",
    "X_train, X_test, y_train, y_test = train_test_split(X, Y, random_state=42)\n",
    "# Classify test data using random forest\n",
    "clf = RandomForestClassifier(n_estimators=10)\n",
    "clf = clf.fit(X_train, y_train)\n",
    "accuracy = clf.score(X_test,y_test)\n",
    "print(\"Predictions:\\n{}\".format(clf.predict(X_test)))\n",
    "print(\"Actual:\\n{}\".format(y_test[:10]))\n",
    "print(\"Score:\\n{}\".format(accuracy))"
   ]
  },
  {
   "cell_type": "markdown",
   "metadata": {},
   "source": [
    "## [WIP] Decision Tree Visualization\n"
   ]
  },
  {
   "cell_type": "code",
   "execution_count": null,
   "metadata": {
    "collapsed": true
   },
   "outputs": [],
   "source": [
    "# FIXME: Test once number of features is less than 360\n",
    "\n",
    "# Get features\n",
    "features = df3.columns[:-2]\n",
    "y = df3[\"Target\"]\n",
    "dt = DecisionTreeClassifier(min_samples_split=20, random_state=99)\n",
    "dt.fit(X, y)\n",
    "\n",
    "def visualize_tree(tree, feature_names):\n",
    "    \"\"\"Create tree png using graphviz.\n",
    "\n",
    "    Args\n",
    "    ----\n",
    "    tree -- scikit-learn DecsisionTree.\n",
    "    feature_names -- list of feature names.\n",
    "    \"\"\"\n",
    "    with open(\"dt.dot\", 'w') as f:\n",
    "        export_graphviz(tree, out_file=f,\n",
    "                        feature_names=feature_names)\n",
    "\n",
    "    command = [\"dot\", \"-Tpng\", \"dt.dot\", \"-o\", \"dt.png\"]\n",
    "    try:\n",
    "        subprocess.check_call(command)\n",
    "    except:\n",
    "        exit(\"Could not run dot, ie graphviz, to \"\n",
    "             \"produce visualization\")\n",
    "visualize_tree(dt,features)"
   ]
  },
  {
   "cell_type": "markdown",
   "metadata": {},
   "source": [
    "## Random Forest"
   ]
  },
  {
   "cell_type": "code",
   "execution_count": null,
   "metadata": {
    "collapsed": false
   },
   "outputs": [],
   "source": [
    "clf_forest = RandomForestClassifier(n_estimators=10)\n",
    "clf_forest = clf_forest.fit(X_train, y_train)\n",
    "print(clf_forest.score(X_test,y_test))"
   ]
  },
  {
   "cell_type": "markdown",
   "metadata": {},
   "source": [
    "## Adaboost"
   ]
  },
  {
   "cell_type": "code",
   "execution_count": null,
   "metadata": {
    "collapsed": false
   },
   "outputs": [],
   "source": [
    "clf_adaboost = AdaBoostClassifier(DecisionTreeClassifier(max_depth=3), n_estimators=10)\n",
    "clf_adaboost = clf_adaboost.fit(X_train, y_train)\n",
    "print(clf_adaboost.score(X_test,y_test))"
   ]
  },
  {
   "cell_type": "markdown",
   "metadata": {},
   "source": [
    "## Bagging"
   ]
  },
  {
   "cell_type": "code",
   "execution_count": null,
   "metadata": {
    "collapsed": false
   },
   "outputs": [],
   "source": [
    "clf_bagging = BaggingClassifier()\n",
    "clf_bagging = clf_bagging.fit(X_train, y_train)\n",
    "print(clf_bagging.score(X_test,y_test))"
   ]
  },
  {
   "cell_type": "markdown",
   "metadata": {},
   "source": [
    "## Extra Trees"
   ]
  },
  {
   "cell_type": "code",
   "execution_count": null,
   "metadata": {
    "collapsed": false
   },
   "outputs": [],
   "source": [
    "clf_extra_tree = ExtraTreesClassifier()\n",
    "clf_extra_tree = clf_extra_tree.fit(X_train, y_train)\n",
    "print(clf_extra_tree.score(X_test,y_test))\n",
    "# print(\"Predictions:\\n{}\".format(clf_bagging.predict(X_test)))\n",
    "# print(\"Actual:\\n{}\".format(y_test))"
   ]
  },
  {
   "cell_type": "markdown",
   "metadata": {},
   "source": [
    "## Gradient Boosting"
   ]
  },
  {
   "cell_type": "code",
   "execution_count": null,
   "metadata": {
    "collapsed": false
   },
   "outputs": [],
   "source": [
    "clf_gradient_boosting = GradientBoostingClassifier()\n",
    "clf_gradient_boosting = clf_gradient_boosting.fit(X_train, y_train)\n",
    "print(clf_gradient_boosting.score(X_test,y_test))\n",
    "# print(\"Predictions:\\n{}\".format(clf_bagging.predict(X_test)))\n",
    "# print(\"Actual:\\n{}\".format(y_test))"
   ]
  },
  {
   "cell_type": "markdown",
   "metadata": {},
   "source": [
    "## Multilayer Perceptron"
   ]
  },
  {
   "cell_type": "code",
   "execution_count": null,
   "metadata": {
    "collapsed": false
   },
   "outputs": [],
   "source": [
    "clf_mlpc = mlpc()\n",
    "clf_mlpc = clf_mlpc.fit(X_train, y_train)\n",
    "print(clf_mlpc.score(X_test,y_test))"
   ]
  },
  {
   "cell_type": "markdown",
   "metadata": {},
   "source": [
    "## SVM"
   ]
  },
  {
   "cell_type": "code",
   "execution_count": null,
   "metadata": {
    "collapsed": false
   },
   "outputs": [],
   "source": [
    "clf_svm = svm.SVC(decision_function_shape='ovo')\n",
    "clf_svm = clf_svm.fit(X_train, y_train)\n",
    "print(clf_svm.score(X_test,y_test))"
   ]
  }
 ],
 "metadata": {
  "anaconda-cloud": {},
  "kernelspec": {
   "display_name": "Python [default]",
   "language": "python",
   "name": "python3"
  },
  "language_info": {
   "codemirror_mode": {
    "name": "ipython",
    "version": 3
   },
   "file_extension": ".py",
   "mimetype": "text/x-python",
   "name": "python",
   "nbconvert_exporter": "python",
   "pygments_lexer": "ipython3",
   "version": "3.5.2"
  }
 },
 "nbformat": 4,
 "nbformat_minor": 2
}

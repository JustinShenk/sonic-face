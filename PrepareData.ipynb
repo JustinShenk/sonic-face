{
 "cells": [
  {
   "cell_type": "markdown",
   "metadata": {},
   "source": [
    "## Load the Motion Data\n",
    "\n",
    "Data is in x and y coordinators for each pixel. Each sample will be an array of 10 (frames) x 40 x 40 (capture window) x 2 (x and y) dimensions. "
   ]
  },
  {
   "cell_type": "code",
   "execution_count": null,
   "metadata": {
    "collapsed": false
   },
   "outputs": [],
   "source": [
    "import numpy as np\n",
    "import os\n",
    "import matplotlib\n",
    "matplotlib.use('TkAgg') # For displaying animation\n",
    "import matplotlib.pyplot as plt\n",
    "import matplotlib.animation as animation\n",
    "\n",
    "from helper_functions import *"
   ]
  },
  {
   "cell_type": "code",
   "execution_count": null,
   "metadata": {
    "collapsed": false
   },
   "outputs": [],
   "source": [
    "data_dir = 'sonic_pi_face/data/'\n",
    "\n",
    "# Get list of data files\n",
    "data_files = get_data_files(data_dir)\n",
    "\n",
    "# Load data into a dictionary\n",
    "# Note: Checks for incomplete data\n",
    "data = get_gesture_data(data_files)"
   ]
  },
  {
   "cell_type": "code",
   "execution_count": null,
   "metadata": {
    "collapsed": false
   },
   "outputs": [],
   "source": [
    "# Get list of gestures in data\n",
    "data.keys()\n",
    "\n",
    "# Get number of `open-close` samples\n",
    "len(data['open-close'])\n",
    "\n",
    "# Load first data sample from `open-close`\n",
    "data['open-close'][0]"
   ]
  },
  {
   "cell_type": "markdown",
   "metadata": {},
   "source": [
    "## Visualize horizontal motion across frames"
   ]
  },
  {
   "cell_type": "code",
   "execution_count": null,
   "metadata": {
    "collapsed": false,
    "scrolled": false
   },
   "outputs": [],
   "source": [
    "sample = data['open-close'][5] # Fifth sample\n",
    "frame = sample[5][:,:,0] # Middle frame\n",
    "\n",
    "fig = plt.figure()\n",
    "\n",
    "im = plt.imshow(frame, animated=True)\n",
    "\n",
    "def update(i):\n",
    "    frame = sample[i][:,:,0]\n",
    "    im.set_array(frame)\n",
    "    return im,\n",
    "\n",
    "ani = animation.FuncAnimation(fig, update, frames = range(10),interval=200,repeat=True)\n",
    "plt.show()"
   ]
  }
 ],
 "metadata": {
  "anaconda-cloud": {},
  "kernelspec": {
   "display_name": "Python [conda root]",
   "language": "python",
   "name": "conda-root-py"
  },
  "language_info": {
   "codemirror_mode": {
    "name": "ipython",
    "version": 3
   },
   "file_extension": ".py",
   "mimetype": "text/x-python",
   "name": "python",
   "nbconvert_exporter": "python",
   "pygments_lexer": "ipython3",
   "version": "3.5.2"
  }
 },
 "nbformat": 4,
 "nbformat_minor": 2
}

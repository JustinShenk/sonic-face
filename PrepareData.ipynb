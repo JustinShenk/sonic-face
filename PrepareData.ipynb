{
 "cells": [
  {
   "cell_type": "markdown",
   "metadata": {},
   "source": [
    "## Load the Motion Data\n",
    "\n",
    "Data is in x and y coordinates for each pixel. Each sample will be an array of 10 (frames) x 40 x 40 (capture window) x 2 (x and y) dimensions. "
   ]
  },
  {
   "cell_type": "code",
   "execution_count": null,
   "metadata": {
    "collapsed": false
   },
   "outputs": [],
   "source": [
    "import numpy as np\n",
    "import os\n",
    "import matplotlib\n",
    "matplotlib.use('TkAgg') # For displaying animation\n",
    "import matplotlib.pyplot as plt\n",
    "import matplotlib.animation as animation\n",
    "\n",
    "from helper_functions import *\n",
    "from normalize_data import *\n",
    "from integral_try import *\n",
    "from numpy import array\n",
    "from sklearn import preprocessing as pp\n",
    "from sklearn.ensemble import RandomForestClassifier\n",
    "from sklearn.model_selection import train_test_split"
   ]
  },
  {
   "cell_type": "code",
   "execution_count": null,
   "metadata": {
    "collapsed": false
   },
   "outputs": [],
   "source": [
    "data_dir = 'sonic_pi_face/data/'\n",
    "\n",
    "# Get list of data files\n",
    "data_files = get_data_files(data_dir)\n",
    "\n",
    "# Load data into a dictionary\n",
    "# Note: Checks for incomplete data\n",
    "data = get_gesture_data(data_files)\n",
    "\n",
    "# Normalize data across data samples and frames (x and y will be normalized independently)\n",
    "# data = normalize_data(data)\n",
    "print(np.shape(data['open-close']))\n",
    "\n",
    "# Load first data sample from `open-close`\n",
    "sample = data['open-close'][0]\n",
    "print(np.shape(sample))\n",
    "\n",
    "# calculate the integral image\n",
    "iimage = i_image(sample[4])\n",
    "\n",
    "# calculate the integral for the first quarter from the integral image\n",
    "try_integral = get_integral(iimage,0,0,20,20)\n",
    "\n",
    "print('Example integral of the 1st quarter of one frame: ' , try_integral)"
   ]
  },
  {
   "cell_type": "markdown",
   "metadata": {},
   "source": [
    "## Visualize horizontal motion across frames"
   ]
  },
  {
   "cell_type": "code",
   "execution_count": null,
   "metadata": {
    "collapsed": false,
    "scrolled": false
   },
   "outputs": [],
   "source": [
    "sample = data['open-close'][121] # Fifth sample\n",
    "frame = sample[5][:,:,0] # Middle frame\n",
    "# Note: Second argument takes 0 for `x`, 1 for `y` coordinate\n",
    "# display_frames(sample,0) "
   ]
  },
  {
   "cell_type": "markdown",
   "metadata": {},
   "source": [
    "## Random forest classification"
   ]
  },
  {
   "cell_type": "markdown",
   "metadata": {},
   "source": [
    "Create training and test data split for classification"
   ]
  },
  {
   "cell_type": "code",
   "execution_count": null,
   "metadata": {
    "collapsed": false
   },
   "outputs": [],
   "source": [
    "# Load gesture data\n",
    "open_close = data['open-close']\n",
    "oc_array = np.asarray(open_close)\n",
    "\n",
    "# Flatten array to n x 32000\n",
    "flattened = oc_array.reshape((len(oc_array),10*1600*2))"
   ]
  },
  {
   "cell_type": "code",
   "execution_count": null,
   "metadata": {
    "collapsed": false
   },
   "outputs": [],
   "source": [
    "# Load empty (no-gesture) data\n",
    "emptyX = np.asarray(data['empty']).reshape((len(emptyX),10*1600*2))\n",
    "emptyY = np.zeros(len(emptyX))"
   ]
  },
  {
   "cell_type": "code",
   "execution_count": null,
   "metadata": {
    "collapsed": false
   },
   "outputs": [],
   "source": [
    "dataX = flattened.copy()\n",
    "\n",
    "# create random mock data on same scale as original data\n",
    "shamX = np.random.randn(*dataX.shape) * (np.max(dataX) + np.abs(np.min(dataX))) - np.min(dataX)\n",
    "X = np.vstack([dataX, shamX,emptyX])\n",
    "dataY = np.ones((len(dataX)))\n",
    "shamY = np.zeros((len(shamX)))\n",
    "Y = np.hstack([dataY, shamY, emptyY])"
   ]
  },
  {
   "cell_type": "code",
   "execution_count": null,
   "metadata": {
    "collapsed": false
   },
   "outputs": [],
   "source": [
    "# Split data into train and test\n",
    "X_train, X_test, y_train, y_test = train_test_split(X, Y, random_state=42)\n",
    "\n",
    "# Classify test data using random forest\n",
    "clf = RandomForestClassifier(n_estimators=10)\n",
    "clf = clf.fit(X_train, y_train)\n",
    "clf.score(X_test,y_test)"
   ]
  }
 ],
 "metadata": {
  "anaconda-cloud": {},
  "kernelspec": {
   "display_name": "Python [default]",
   "language": "python",
   "name": "python3"
  },
  "language_info": {
   "codemirror_mode": {
    "name": "ipython",
    "version": 3
   },
   "file_extension": ".py",
   "mimetype": "text/x-python",
   "name": "python",
   "nbconvert_exporter": "python",
   "pygments_lexer": "ipython3",
   "version": "3.5.2"
  }
 },
 "nbformat": 4,
 "nbformat_minor": 2
}

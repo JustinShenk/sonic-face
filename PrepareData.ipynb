{
 "cells": [
  {
   "cell_type": "markdown",
   "metadata": {
    "nbpresent": {
     "id": "cb0e3a41-4934-4ff8-a0d0-e0b9110c1775"
    }
   },
   "source": [
    "# Gesture Classification with Ensemble Methods using Optical Flow\n",
    "\n",
    "Exploring ensemble methods, feature engineering, and implementing in a live system.\n",
    "\n",
    "Group 8:\n",
    "\n",
    "** Junbo Huang **<br>\n",
    "**Khanh \"Katie\" Le** <br>\n",
    "** Justin Shenk **<br>\n",
    "**Marie Sindermann**<br>\n",
    "\n",
    "\n",
    "Follow along: https://github.com/JustinShenk/sonic-face"
   ]
  },
  {
   "cell_type": "code",
   "execution_count": null,
   "metadata": {
    "collapsed": false,
    "nbpresent": {
     "id": "361be7d2-7278-4b3c-af9a-d3f06722e632"
    }
   },
   "outputs": [],
   "source": [
    "import os\n",
    "import numpy as np\n",
    "import matplotlib\n",
    "matplotlib.use('TkAgg') # For displaying animation\n",
    "import pandas as pd\n",
    "import matplotlib.pyplot as plt\n",
    "import matplotlib.animation as animation\n",
    "\n",
    "from sklearn import svm as svm\n",
    "from sklearn.externals import joblib\n",
    "from sklearn import linear_model as lm\n",
    "from sklearn import preprocessing as pp\n",
    "from sklearn.model_selection import train_test_split\n",
    "from sklearn.neural_network import MLPClassifier as mlpc\n",
    "from sklearn.tree import DecisionTreeClassifier, export_graphviz\n",
    "from sklearn.ensemble import (RandomForestClassifier, ExtraTreesClassifier, \n",
    "                              AdaBoostClassifier, BaggingClassifier, \n",
    "                              GradientBoostingClassifier)\n",
    "from helper_functions import *\n",
    "from normalize_data import *\n",
    "from numpy import array\n",
    "\n",
    "%matplotlib notebook"
   ]
  },
  {
   "cell_type": "markdown",
   "metadata": {
    "nbpresent": {
     "id": "9debdb7a-4c25-40ba-946c-0831bc81ba78"
    }
   },
   "source": [
    "## Load the Motion Data\n",
    "\n",
    "Data is in x and y coordinates for each pixel. Each sample will be an array of 10 (frames) x 40 x 40 (capture window) x 2 (x and y) dimensions. "
   ]
  },
  {
   "cell_type": "markdown",
   "metadata": {
    "nbpresent": {
     "id": "1f4593e8-b231-4ddf-abe1-d13ca0fcf9af"
    }
   },
   "source": [
    "## Load raw data for preprocessing"
   ]
  },
  {
   "cell_type": "code",
   "execution_count": null,
   "metadata": {
    "collapsed": true,
    "nbpresent": {
     "id": "35b4578b-12ac-4964-a2f7-5898b81d90c6"
    }
   },
   "outputs": [],
   "source": [
    "RAW_DATA_DIR = 'sonic_pi_face/data/'\n",
    "\n",
    "# Get list of data files\n",
    "data_files = get_data_files(RAW_DATA_DIR)\n",
    "\n",
    "# Load data into a dictionary\n",
    "# Note: Checks for incomplete data\n",
    "data_dict = get_gesture_data(data_files)"
   ]
  },
  {
   "cell_type": "markdown",
   "metadata": {
    "nbpresent": {
     "id": "e4f74418-1db6-4355-a84b-238027210f4c"
    }
   },
   "source": [
    "## Visualize optical flow (Optional)\n",
    "\n",
    "Computation of optical flow can be obtained for pixel $I(x,y,t)$ by\n",
    "$$ f_x{u} + f_y{v} + f_t = 0 $$\n",
    "\n",
    "where:\n",
    "\n",
    "$$ f_x = \\frac{\\partial f}{\\partial x} \\; ; \\; f_y = \\frac{\\partial f}{\\partial y} $$\n",
    "$$ u = \\frac{dx}{dt} \\; ; \\; v = \\frac{dy}{dt} $$"
   ]
  },
  {
   "cell_type": "markdown",
   "metadata": {
    "nbpresent": {
     "id": "13b3feec-bd60-4598-a496-8446e4cbd1b4"
    }
   },
   "source": [
    "### Show individual frame (Optional)"
   ]
  },
  {
   "cell_type": "code",
   "execution_count": null,
   "metadata": {
    "collapsed": false,
    "nbpresent": {
     "id": "a0ac399e-7513-4678-817f-5ab85188d07b"
    },
    "scrolled": false
   },
   "outputs": [],
   "source": [
    "gestures = list(data_dict)\n",
    "print(gestures) # List gestures\n",
    "sample = data_dict['open-close'][3] # 3rd Open-close sample\n",
    "image = sample[4] # 5th frame of sample\n",
    "plt.imshow(image[...,0]) # x-coordinates slice\n",
    "plt.show()"
   ]
  },
  {
   "cell_type": "markdown",
   "metadata": {
    "nbpresent": {
     "id": "e70758b6-8c7b-4e91-9619-7b3ef9d99ba3"
    }
   },
   "source": [
    "### Show horizontal motion across frames (Optional)"
   ]
  },
  {
   "cell_type": "code",
   "execution_count": null,
   "metadata": {
    "collapsed": false,
    "nbpresent": {
     "id": "d80b8471-e3ee-4518-992b-a274aa2079a2"
    }
   },
   "outputs": [],
   "source": [
    "sample = data_dict['open-close'][5] # Fifth sample\n",
    "anim = display_frames(sample)"
   ]
  },
  {
   "cell_type": "markdown",
   "metadata": {
    "nbpresent": {
     "id": "6ef43971-5d2a-4423-9d91-c2f27bdb717a"
    }
   },
   "source": [
    "## Feature Engineering\n",
    "\n",
    "Find features that increase the sample classification.\n",
    "\n",
    "### WIP - Histogram of Gradients"
   ]
  },
  {
   "cell_type": "code",
   "execution_count": null,
   "metadata": {
    "collapsed": false,
    "nbpresent": {
     "id": "7c454586-9966-48ca-8b7b-f5c7ee946cbb"
    }
   },
   "outputs": [],
   "source": [
    "np.asarray(data_dict['slide-horizontally']).shape"
   ]
  },
  {
   "cell_type": "code",
   "execution_count": null,
   "metadata": {
    "collapsed": false,
    "nbpresent": {
     "id": "9b7e0f20-e6a6-40d6-a50c-05d95dbdf7ed"
    },
    "scrolled": false
   },
   "outputs": [],
   "source": [
    "# FIXME: Complete HoG feature selection\n",
    "import matplotlib.mlab as mlab\n",
    "%matplotlib inline\n",
    "data_slide_v = np.asarray(data_dict['slide-vertically'])\n",
    "x_values = data_slide_v[:,4,...,0].flatten()\n",
    "y_values = data_slide_v[:,4,...,1].flatten()\n",
    "data_slide_h = np.asarray(data_dict['slide-horizontally'])\n",
    "x_values_h = data_slide_h[:,4,...,0].flatten()\n",
    "y_values_h = data_slide_h[:4,...,1].flatten()\n",
    "\n",
    "fig, axarr = plt.subplots(2,2)\n",
    "axarr[0,0].set_title('Horizontal motion in slide-vertical')\n",
    "axarr[0,0].hist(x_values, bins=50, normed=True)\n",
    "axarr[0,0].set_autoscaley_on(False)\n",
    "axarr[0,0].set_ylim([0,1])\n",
    "\n",
    "axarr[0,1].set_title('Vertical motion in slide-vertical')\n",
    "axarr[0,1].hist(y_values, bins=50, normed=True,orientation='horizontal')\n",
    "axarr[0,1].set_autoscalex_on(False)\n",
    "axarr[0,1].set_xlim([0,.3])\n",
    "\n",
    "axarr[1,0].set_title('Horizontal motion in slide-horizontal')\n",
    "axarr[1,0].hist(x_values_h,bins=50,normed=True)\n",
    "axarr[1,0].set_autoscaley_on(False)\n",
    "axarr[1,0].set_ylim([0,1])\n",
    "\n",
    "\n",
    "axarr[1,1].set_title('Vertical motion in slide-horizontal')\n",
    "axarr[1,1].hist(y_values_h, bins=50,normed=True, orientation='horizontal')\n",
    "axarr[1,1].set_autoscalex_on(False)\n",
    "axarr[1,1].set_xlim([0,.3])\n",
    "\n",
    "plt.tight_layout()\n",
    "plt.show()"
   ]
  },
  {
   "cell_type": "markdown",
   "metadata": {},
   "source": [
    "#### test averaging over frames and features"
   ]
  },
  {
   "cell_type": "code",
   "execution_count": 194,
   "metadata": {
    "collapsed": true
   },
   "outputs": [],
   "source": [
    "avg_frame = np.zeros((len(data_open_close),len(data_open_close[1][1]),len(data_open_close[1][1][1]),len(data_open_close[1][1][1][1])))\n",
    "for i in range(len(data_open_close)):\n",
    "    sum_frame = np.zeros((40,40,2))\n",
    "    for j in range(len(data_open_close[i])): \n",
    "        sum_frame+= data_open_close[i][j]\n",
    "    avg_frame[i] = sum_frame/len(data_open_close[i])"
   ]
  },
  {
   "cell_type": "code",
   "execution_count": 195,
   "metadata": {
    "collapsed": true
   },
   "outputs": [],
   "source": [
    "avg_feature = np.zeros((len(data_open_close[1]),len(data_open_close[1][1]),len(data_open_close[1][1][1]),len(data_open_close[1][1][1][1])))\n",
    "sum_feature = np.zeros((10,40,40,2))\n",
    "for i in range(len(data_open_close)): \n",
    "    sum_feature+= data_open_close[i]\n",
    "avg_feature = sum_feature/len(data_open_close)"
   ]
  },
  {
   "cell_type": "markdown",
   "metadata": {
    "nbpresent": {
     "id": "edbb4923-29fd-447f-ac5e-e94203ac6892"
    }
   },
   "source": [
    "### Feature optimization"
   ]
  },
  {
   "cell_type": "code",
   "execution_count": null,
   "metadata": {
    "collapsed": true,
    "nbpresent": {
     "id": "73529ba6-d49a-4150-af8d-25f18b67fc12"
    },
    "scrolled": false
   },
   "outputs": [],
   "source": [
    "# Load all pre-processed data sets if available.\n",
    "data_sets = []\n",
    "DATA_DIR = 'data'\n",
    "\n",
    "# Number of rows and colums to permute for optical flow feature extraction\n",
    "divs=[4,10,20]\n",
    "\n",
    "if os.path.exists(DATA_DIR):\n",
    "    for file in os.listdir(DATA_DIR):\n",
    "        if file.endswith('.csv'):\n",
    "            df = pd.read_csv(os.path.join(DATA_DIR,file))\n",
    "            df = df.drop('Unnamed: 0',axis=1)\n",
    "            data_sets.append(df)\n",
    "else:\n",
    "    # Generate data sets.\n",
    "    print(\"Directory not found at {}\\nPreprocessing data for \"\n",
    "        \"optimization.\".format(os.path.join(os.getcwd(),DATA_DIR)))\n",
    "    data_sets = make_feature_sets(data_dict,divs=divs)\n",
    "    # Save locally\n",
    "    save_data_sets(data_sets,divs=divs)"
   ]
  },
  {
   "cell_type": "markdown",
   "metadata": {
    "nbpresent": {
     "id": "25d10a4a-410d-4bc7-8d33-140e7d1de08d"
    }
   },
   "source": [
    "### Feature reduction with integral image (Optional)\n",
    "\n",
    "Integral image for fast feature evaluation.\n",
    "\n",
    "#### Use random forests for comparing feature reduction levels."
   ]
  },
  {
   "cell_type": "code",
   "execution_count": null,
   "metadata": {
    "collapsed": false,
    "nbpresent": {
     "id": "897ce825-1aff-4dae-bbff-6216e1dbf8f9"
    },
    "scrolled": false
   },
   "outputs": [],
   "source": [
    "# Example: Reduce the features of one data set.\n",
    "# Dataframe with 32 (16 * 2 (x and y coordinates)) dimensions\n",
    "df_red = feature_extract(data_dict,cols=4,rows=4)\n",
    "\n",
    "# Display comparison of feature reduction levels.\n",
    "%matplotlib inline\n",
    "gestures = ['slide-vertically','waving-beauty-pageant-style','empty']\n",
    "ax = optimize_feature_dimensions(data_sets,divs,method='rf', gestures=gestures)\n",
    "plt.show()"
   ]
  },
  {
   "cell_type": "markdown",
   "metadata": {
    "nbpresent": {
     "id": "8a883174-54dc-4382-8ab5-d630d2661dfc"
    }
   },
   "source": [
    "### Hyper-parameter Optimization with Random Search (Optional)\n",
    "\n",
    "Initialize random search module."
   ]
  },
  {
   "cell_type": "code",
   "execution_count": null,
   "metadata": {
    "collapsed": true,
    "nbpresent": {
     "id": "27ea98f6-38ff-4594-b01d-52860bcf8017"
    }
   },
   "outputs": [],
   "source": [
    "from scipy.stats import randint as sp_randint\n",
    "from sklearn.model_selection import RandomizedSearchCV\n",
    "\n",
    "# specify parameters and distributions to sample from\n",
    "param_dist = {\"max_depth\": [None],\n",
    "              \"max_features\": sp_randint(5, 25),\n",
    "              \"min_samples_split\": sp_randint(2, 11),\n",
    "              \"min_samples_leaf\": sp_randint(1, 11),\n",
    "              \"bootstrap\": [True, False],\n",
    "              \"criterion\": [\"gini\", \"entropy\"]}\n",
    "\n",
    "# run randomized search\n",
    "n_iter_search = 60"
   ]
  },
  {
   "cell_type": "markdown",
   "metadata": {
    "nbpresent": {
     "id": "a81b8c75-6255-4585-aa20-b1e092c9677f"
    }
   },
   "source": [
    "### Split data"
   ]
  },
  {
   "cell_type": "code",
   "execution_count": null,
   "metadata": {
    "collapsed": true,
    "nbpresent": {
     "id": "73cb8dbc-e7c7-4ae3-bcb6-0abba5aba288"
    }
   },
   "outputs": [],
   "source": [
    "# Prepare data\n",
    "# List of gestures\n",
    "gestures=['empty','waving-beauty-pageant-style','slide-vertically']\n",
    "\n",
    "# Reduced features data set (pandas DataFrame)\n",
    "data = data_sets[1] # Choose middle (or here argmax) feature set\n",
    "data = data[data['label'].isin(gestures)]\n",
    "data, targets = encode_target(data, 'label') # Encode target column\n",
    "\n",
    "#-------------# \n",
    "# Raw data analysis for comparison (numpy array)\n",
    "empty_array = np.asarray(data_dict['empty'])\n",
    "slide_v_array = np.asarray(data_dict['slide-vertically'])\n",
    "waving_array = np.asarray(data_dict['waving-beauty-pageant-style'])\n",
    "data_raw = np.concatenate([empty_array,slide_v_array,waving_array])\n",
    "#-------------#\n",
    "\n",
    "# Split into features and target\n",
    "X, y = class_split(data,gestures=gestures)\n",
    "X_train, X_test, y_train, y_test = train_test_split(X, y, random_state=42)\n",
    "\n",
    "# Split into features and target (numpy raw data)\n",
    "X_raw, y_raw = class_split(data,gestures=gestures)\n",
    "X_train_raw, X_test_raw, y_train_raw, y_test_raw = train_test_split(X_raw, y_raw, random_state=42)"
   ]
  },
  {
   "cell_type": "markdown",
   "metadata": {
    "nbpresent": {
     "id": "c03567e2-c207-46b7-94fb-8180b189e5e3"
    }
   },
   "source": [
    "### Multiclass Random Forest Classification"
   ]
  },
  {
   "cell_type": "code",
   "execution_count": null,
   "metadata": {
    "collapsed": false,
    "nbpresent": {
     "id": "e849e9b7-ca3b-4841-b58f-4ce559f129b6"
    },
    "scrolled": false
   },
   "outputs": [],
   "source": [
    "# Classify test data using random forest\n",
    "clf = RandomForestClassifier(n_estimators=10)\n",
    "clf = clf.fit(X_train, y_train)\n",
    "accuracy = clf.score(X_test,y_test)\n",
    "\n",
    "print(\"Predictions:\\n{}\".format(clf.predict(X_test)))\n",
    "print(\"Actual:\\n{}\".format(y_test[:10]))\n",
    "print(\"Score:\\n{}\".format(accuracy))\n",
    "\n",
    "#FIXME\n",
    "random_search = RandomizedSearchCV(clf, param_distributions=param_dist,\n",
    "                                   n_iter=n_iter_search)\n",
    "\n",
    "random_search.fit(X.values, y.values)\n",
    "print(\"RandomizedSearchCV evaluated %d candidates\"\n",
    "      \" parameter settings.\" % (n_iter_search))\n",
    "report(random_search.cv_results_)"
   ]
  },
  {
   "cell_type": "markdown",
   "metadata": {
    "nbpresent": {
     "id": "8c498130-c395-4edd-ad21-e8ae561c4e67"
    }
   },
   "source": [
    "### Compare raw data random forest classification (Optional)"
   ]
  },
  {
   "cell_type": "code",
   "execution_count": null,
   "metadata": {
    "collapsed": false,
    "nbpresent": {
     "id": "371dea88-da59-44da-b3e7-22a1829b1e04"
    }
   },
   "outputs": [],
   "source": [
    "# Classify test data using random forest on raw data (optional)\n",
    "clf = RandomForestClassifier(n_estimators=10)\n",
    "clf = clf.fit(X_train_raw, y_train_raw)\n",
    "accuracy = clf.score(X_test_raw,y_test_raw)\n",
    "\n",
    "print(\"Predictions:\\n{}\".format(clf.predict(X_test_raw)))\n",
    "print(\"Actual:\\n{}\".format(y_test_raw[:10]))\n",
    "print(\"Score:\\n{}\".format(accuracy))\n",
    "\n",
    "#FIXME\n",
    "random_search = RandomizedSearchCV(clf, param_distributions=param_dist,\n",
    "                                   n_iter=n_iter_search)\n",
    "\n",
    "random_search.fit(X_raw.values, y_raw.values)\n",
    "print(\"RandomizedSearchCV evaluated %d candidates\"\n",
    "      \" parameter settings.\" % (n_iter_search))\n",
    "report(random_search.cv_results_)"
   ]
  },
  {
   "cell_type": "markdown",
   "metadata": {
    "nbpresent": {
     "id": "f96fee50-0f11-42bc-8640-66d284b5d2e0"
    }
   },
   "source": [
    "### AdaBoost"
   ]
  },
  {
   "cell_type": "code",
   "execution_count": null,
   "metadata": {
    "collapsed": false,
    "nbpresent": {
     "id": "82ef43d8-a2d5-4c27-95be-03718115af0a"
    }
   },
   "outputs": [],
   "source": [
    "clf_adaboost = AdaBoostClassifier(DecisionTreeClassifier())\n",
    "clf_adaboost = clf_adaboost.fit(X_train, y_train)\n",
    "accuracy = clf_adaboost.score(X_test, y_test)\n",
    "print(\"Predictions:\\n{}\".format(clf_adaboost.predict(X_test)))\n",
    "print(\"Actual:\\n{}\".format(y_test[:10]))\n",
    "print(\"Score:\\n{}\".format(accuracy))"
   ]
  },
  {
   "cell_type": "markdown",
   "metadata": {
    "nbpresent": {
     "id": "70c8f52d-bc0b-4dab-85c8-256f594c2684"
    }
   },
   "source": [
    "### Bagging"
   ]
  },
  {
   "cell_type": "code",
   "execution_count": null,
   "metadata": {
    "collapsed": false,
    "nbpresent": {
     "id": "55bc70fb-b5fd-4847-a376-b1871a1c8aef"
    }
   },
   "outputs": [],
   "source": [
    "clf_bagging = BaggingClassifier()\n",
    "clf_bagging = clf_bagging.fit(X_train, y_train)\n",
    "print(clf_bagging.score(X_test, y_test))"
   ]
  },
  {
   "cell_type": "markdown",
   "metadata": {
    "nbpresent": {
     "id": "8a163cc5-3a8e-4c40-9b4d-220771cb484c"
    }
   },
   "source": [
    "### Extra Trees"
   ]
  },
  {
   "cell_type": "code",
   "execution_count": null,
   "metadata": {
    "collapsed": false,
    "nbpresent": {
     "id": "afbd2e5e-d13b-423f-9f70-c66020c69fd5"
    }
   },
   "outputs": [],
   "source": [
    "clf_extra_tree = ExtraTreesClassifier()\n",
    "clf_extra_tree = clf_extra_tree.fit(X_train, y_train)\n",
    "print(clf_extra_tree.score(X_test, y_test))"
   ]
  },
  {
   "cell_type": "markdown",
   "metadata": {
    "nbpresent": {
     "id": "1d54cfa4-ca8a-44d8-9a27-a62963a56f08"
    }
   },
   "source": [
    "###  Gradient Boosting"
   ]
  },
  {
   "cell_type": "code",
   "execution_count": null,
   "metadata": {
    "collapsed": false,
    "nbpresent": {
     "id": "145dba6c-0c6c-44d5-bfca-d287c0ee605e"
    }
   },
   "outputs": [],
   "source": [
    "clf_gradient_boosting = GradientBoostingClassifier(n_estimators=100)\n",
    "clf_gradient_boosting = clf_gradient_boosting.fit(X_train, y_train)\n",
    "print(clf_gradient_boosting.score(X_test,y_test))\n",
    "# print(\"Predictions:\\n{}\".format(clf_bagging.predict(X_test)))\n",
    "# print(\"Actual:\\n{}\".format(y_test))"
   ]
  },
  {
   "cell_type": "markdown",
   "metadata": {
    "nbpresent": {
     "id": "1739fbe6-5eb1-4907-a671-8fd1a52717d0"
    }
   },
   "source": [
    "### Multilayer Perceptron"
   ]
  },
  {
   "cell_type": "code",
   "execution_count": null,
   "metadata": {
    "collapsed": false,
    "nbpresent": {
     "id": "604f35b3-695e-40b1-a043-772b6edd126e"
    }
   },
   "outputs": [],
   "source": [
    "clf_mlpc = mlpc(hidden_layer_sizes=800,verbose=True)\n",
    "clf_mlpc = clf_mlpc.fit(X_train, y_train)\n",
    "print(clf_mlpc.score(X_test,y_test))"
   ]
  },
  {
   "cell_type": "markdown",
   "metadata": {
    "nbpresent": {
     "id": "769469b2-5ce6-4ec4-af8b-e31cfa3615cc"
    }
   },
   "source": [
    "### SVM"
   ]
  },
  {
   "cell_type": "code",
   "execution_count": null,
   "metadata": {
    "collapsed": false,
    "nbpresent": {
     "id": "971ea3d4-99ac-4476-a3aa-05be80f8cde8"
    }
   },
   "outputs": [],
   "source": [
    "clf_svm = svm.SVC(kernel='poly', C=1.0)\n",
    "clf_svm = clf_svm.fit(X_train, y_train)\n",
    "print(clf_svm.score(X_test,y_test))"
   ]
  },
  {
   "cell_type": "markdown",
   "metadata": {
    "nbpresent": {
     "id": "6c3b2cd5-296a-4b31-81ae-b2c2cbc94a76"
    }
   },
   "source": [
    "### Save weights for best ensemble method for offline use (Optional)"
   ]
  },
  {
   "cell_type": "code",
   "execution_count": null,
   "metadata": {
    "collapsed": false,
    "nbpresent": {
     "id": "6188ed11-780f-42f5-9523-e15cc0ce7baf"
    }
   },
   "outputs": [],
   "source": [
    "joblib.dump(clf_gradient_boosting, 'classifier.pkl')"
   ]
  },
  {
   "cell_type": "markdown",
   "metadata": {
    "nbpresent": {
     "id": "32918686-e4a1-42f5-a57b-8ba9cca066ef"
    }
   },
   "source": [
    "## Model Comparison with Hyper-Parameter Optimization\n",
    "\n",
    "### Define hyper-parameter range"
   ]
  },
  {
   "cell_type": "code",
   "execution_count": null,
   "metadata": {
    "collapsed": true,
    "nbpresent": {
     "id": "659d52ec-b2c2-4f2b-9028-54e5d23f4309"
    }
   },
   "outputs": [],
   "source": [
    "# specify parameters and distributions to sample from\n",
    "param_dist_rf = {\n",
    "              \"max_depth\": [None],\n",
    "              \"max_features\": sp_randint(25, 32),\n",
    "              \"min_samples_split\": sp_randint(2,11),\n",
    "              \"min_samples_leaf\": sp_randint(1, 11),\n",
    "              \"bootstrap\": [True, False],\n",
    "              \"criterion\": [\"gini\", \"entropy\"]}\n",
    "\n",
    "# run randomized search\n",
    "n_iter_search_rf = 100\n",
    "\n",
    "# specify parameters and distributions to sample from\n",
    "param_dist_adb = {\n",
    "              \"n_estimators\": [25, 30,35,40,45,50,55,60],\n",
    "              \"learning_rate\": [0.1,0.2,0.3,0.4,0.5],\n",
    "              \"algorithm\": [\"SAMME\", \"SAMME.R\"]}\n",
    "n_iter_search_adb = 80\n",
    "\n",
    "# specify parameters and distributions to sample from\n",
    "param_dist_bagging = {\"n_estimators\" : [5,10,15,20],\n",
    "              \"max_samples\" :[0.7,0.8,0.9,1.0],\n",
    "              \"max_features\" :[0.7,0.8,0.9,1.0],\n",
    "              \"bootstrap\": [True, False]\n",
    "             }\n",
    "# run randomized search\n",
    "n_iter_search_bagging = 50\n",
    "\n",
    "# specify parameters and distributions to sample from\n",
    "param_dist_extree = {\"max_depth\": [None],\n",
    "              \"max_features\": sp_randint(5, 25),\n",
    "              \"min_samples_split\": sp_randint(2,11),\n",
    "              \"min_samples_leaf\": sp_randint(1, 11),\n",
    "              \"bootstrap\": [True, False]}\n",
    "             \n",
    "# run randomized search\n",
    "n_iter_search_extree = 400\n",
    "\n",
    "# specify parameters and distributions to sample from\n",
    "param_dist_grab = {\"learning_rate\" : [0.1,0.2,0.3],\n",
    "              \"max_depth\": [None],\n",
    "              \"max_features\": sp_randint(5, 25),\n",
    "              \"min_samples_split\": sp_randint(2,11),\n",
    "              \"min_samples_leaf\": sp_randint(1, 11)\n",
    "              \n",
    "             }\n",
    "# run randomized search\n",
    "n_iter_search_grab = 30\n",
    "\n",
    "\n",
    "param_dist = [param_dist_rf,param_dist_adb,param_dist_bagging,\n",
    "              param_dist_extree,param_dist_grab]\n",
    "\n",
    "n_iter_search = [n_iter_search_rf,n_iter_search_adb,n_iter_search_bagging,\n",
    "                 n_iter_search_extree,n_iter_search_grab]\n",
    "models = [\n",
    "          RandomForestClassifier(),\n",
    "          AdaBoostClassifier(DecisionTreeClassifier()),\n",
    "          BaggingClassifier(),\n",
    "          ExtraTreesClassifier(),\n",
    "          GradientBoostingClassifier()\n",
    "          ]"
   ]
  },
  {
   "cell_type": "markdown",
   "metadata": {},
   "source": [
    "### Perform random search over hyper-parameter space"
   ]
  },
  {
   "cell_type": "code",
   "execution_count": null,
   "metadata": {
    "collapsed": false,
    "nbpresent": {
     "id": "0629139f-48e8-4ef7-965c-639c47c235dd"
    }
   },
   "outputs": [],
   "source": [
    "data_list = get_data_list(divs=[4,10,20])\n",
    "divs=[4,10,20]\n",
    "combis = get_combis(divs)\n",
    "\n",
    "for index in range(len(models)):\n",
    "        # Train models\n",
    "        random_search = RandomizedSearchCV(models[index], param_distributions=param_dist[index],\n",
    "                                   n_iter=n_iter_search[index])\n",
    "        random_search.fit(X_train, y_train)\n",
    "        #print(\"RandomizedSearchCV evaluated %d candidates\"\n",
    "        #      \" parameter settings.\" % (n_iter_search))\n",
    "\n",
    "        scores = random_search.score(X_test, y_test)\n",
    "        # Create a title for each column and the console by using str() and\n",
    "        # slicing away useless parts of the string\n",
    "        model_title = str(type(models[index])).split(\".\")[-1][:-2][:-len(\"Classifier\")]    \n",
    "        print(\"best score for {} is {}, \\n    with the parameters {}\\n\".format(model_title, random_search.best_score_,random_search.best_params_))"
   ]
  },
  {
   "cell_type": "code",
   "execution_count": null,
   "metadata": {
    "collapsed": true
   },
   "outputs": [],
   "source": []
  },
  {
   "cell_type": "code",
   "execution_count": null,
   "metadata": {
    "collapsed": true
   },
   "outputs": [],
   "source": []
  },
  {
   "cell_type": "code",
   "execution_count": null,
   "metadata": {
    "collapsed": true
   },
   "outputs": [],
   "source": []
  },
  {
   "cell_type": "code",
   "execution_count": null,
   "metadata": {
    "collapsed": true
   },
   "outputs": [],
   "source": []
  },
  {
   "cell_type": "code",
   "execution_count": null,
   "metadata": {
    "collapsed": true
   },
   "outputs": [],
   "source": []
  },
  {
   "cell_type": "code",
   "execution_count": null,
   "metadata": {
    "collapsed": true
   },
   "outputs": [],
   "source": []
  },
  {
   "cell_type": "code",
   "execution_count": null,
   "metadata": {
    "collapsed": true
   },
   "outputs": [],
   "source": []
  },
  {
   "cell_type": "code",
   "execution_count": null,
   "metadata": {
    "collapsed": true
   },
   "outputs": [],
   "source": []
  }
 ],
 "metadata": {
  "anaconda-cloud": {},
  "kernelspec": {
   "display_name": "Python [Root]",
   "language": "python",
   "name": "Python [Root]"
  },
  "language_info": {
   "codemirror_mode": {
    "name": "ipython",
    "version": 3
   },
   "file_extension": ".py",
   "mimetype": "text/x-python",
   "name": "python",
   "nbconvert_exporter": "python",
   "pygments_lexer": "ipython3",
   "version": "3.5.2"
  },
  "nbpresent": {
   "slides": {
    "069b0082-b957-49db-8d01-b803a890d555": {
     "id": "069b0082-b957-49db-8d01-b803a890d555",
     "prev": "1323eff2-92d2-4fef-b3dc-7fda1744d4d1",
     "regions": {
      "24753e2c-cefe-45d2-9b4c-8fb48980dd81": {
       "attrs": {
        "height": 0.8,
        "width": 0.8,
        "x": 0.1,
        "y": 0.1
       },
       "content": {
        "cell": "a81b8c75-6255-4585-aa20-b1e092c9677f",
        "part": "whole"
       },
       "id": "24753e2c-cefe-45d2-9b4c-8fb48980dd81"
      }
     }
    },
    "10cf155e-8094-440e-91c0-9923b8c4f069": {
     "id": "10cf155e-8094-440e-91c0-9923b8c4f069",
     "prev": "f1bbb795-4c5e-474c-bfb9-ab972725eda6",
     "regions": {
      "3c4c3ca2-4807-43a9-8b6e-75406028582d": {
       "attrs": {
        "height": 0.8,
        "width": 0.8,
        "x": 0.1,
        "y": 0.1
       },
       "content": {
        "cell": "55bc70fb-b5fd-4847-a376-b1871a1c8aef",
        "part": "whole"
       },
       "id": "3c4c3ca2-4807-43a9-8b6e-75406028582d"
      }
     }
    },
    "1323eff2-92d2-4fef-b3dc-7fda1744d4d1": {
     "id": "1323eff2-92d2-4fef-b3dc-7fda1744d4d1",
     "prev": "363f68f1-55d9-466e-8efb-b09cf5cb2b42",
     "regions": {
      "08cf891b-ee57-4faf-9cfa-c403a2d1ca4d": {
       "attrs": {
        "height": 0.8,
        "width": 0.8,
        "x": 0.1,
        "y": 0.1
       },
       "content": {
        "cell": "27ea98f6-38ff-4594-b01d-52860bcf8017",
        "part": "whole"
       },
       "id": "08cf891b-ee57-4faf-9cfa-c403a2d1ca4d"
      }
     }
    },
    "1eb7cee8-62b6-492e-a18c-ec813dae8c13": {
     "id": "1eb7cee8-62b6-492e-a18c-ec813dae8c13",
     "prev": "f5493cbb-ecd4-45a5-b6af-d71e0234d903",
     "regions": {
      "1401e602-121b-4bf5-8aff-a855e2085212": {
       "attrs": {
        "height": 0.8,
        "width": 0.8,
        "x": 0.1,
        "y": 0.1
       },
       "content": {
        "cell": "c03567e2-c207-46b7-94fb-8180b189e5e3",
        "part": "whole"
       },
       "id": "1401e602-121b-4bf5-8aff-a855e2085212"
      }
     }
    },
    "25eab506-9b3a-4009-a4be-ce9b0d34e49a": {
     "id": "25eab506-9b3a-4009-a4be-ce9b0d34e49a",
     "prev": null,
     "regions": {
      "f4a63932-9dde-47ba-bcdb-de6a02798ec9": {
       "attrs": {
        "height": 0.8,
        "width": 0.8,
        "x": 0.1,
        "y": 0.1
       },
       "content": {
        "cell": "cb0e3a41-4934-4ff8-a0d0-e0b9110c1775",
        "part": "whole"
       },
       "id": "f4a63932-9dde-47ba-bcdb-de6a02798ec9"
      }
     }
    },
    "2aadde9e-5a6e-4ed6-8baa-c22c91a20b78": {
     "id": "2aadde9e-5a6e-4ed6-8baa-c22c91a20b78",
     "prev": "81b9a339-f86b-4bc5-a46c-482598686915",
     "regions": {
      "1a1fc765-345a-4660-b35f-0a6de279590d": {
       "attrs": {
        "height": 0.8,
        "width": 0.8,
        "x": 0.1,
        "y": 0.1
       },
       "content": {
        "cell": "a0ac399e-7513-4678-817f-5ab85188d07b",
        "part": "whole"
       },
       "id": "1a1fc765-345a-4660-b35f-0a6de279590d"
      }
     }
    },
    "2db12000-0ed1-4c73-9f3d-82af88559f95": {
     "id": "2db12000-0ed1-4c73-9f3d-82af88559f95",
     "prev": "f2f11963-fa7c-4021-9361-537274772c7f",
     "regions": {
      "295f00db-6f97-4c9b-b1ba-97cf8de8bd66": {
       "attrs": {
        "height": 0.8,
        "width": 0.8,
        "x": 0.1,
        "y": 0.1
       },
       "content": {
        "cell": "0629139f-48e8-4ef7-965c-639c47c235dd",
        "part": "whole"
       },
       "id": "295f00db-6f97-4c9b-b1ba-97cf8de8bd66"
      }
     }
    },
    "363f68f1-55d9-466e-8efb-b09cf5cb2b42": {
     "id": "363f68f1-55d9-466e-8efb-b09cf5cb2b42",
     "prev": "6a60885d-ec97-4b06-b67d-77b6680b3c42",
     "regions": {
      "47871f24-1faf-4c09-83cf-ea28aa4337ad": {
       "attrs": {
        "height": 0.8,
        "width": 0.8,
        "x": 0.1,
        "y": 0.1
       },
       "content": {
        "cell": "8a883174-54dc-4382-8ab5-d630d2661dfc",
        "part": "whole"
       },
       "id": "47871f24-1faf-4c09-83cf-ea28aa4337ad"
      }
     }
    },
    "378d3dd8-5e34-4871-b3c3-71162d72548a": {
     "id": "378d3dd8-5e34-4871-b3c3-71162d72548a",
     "prev": "7c6ddd82-ea5b-481b-a46d-1baa2c00a660",
     "regions": {
      "1b1d2c66-375d-4475-a977-b25f0406bc33": {
       "attrs": {
        "height": 0.8,
        "width": 0.8,
        "x": 0.1,
        "y": 0.1
       },
       "content": {
        "cell": "145dba6c-0c6c-44d5-bfca-d287c0ee605e",
        "part": "whole"
       },
       "id": "1b1d2c66-375d-4475-a977-b25f0406bc33"
      }
     }
    },
    "3a38be73-462d-4bd3-bc0d-04c65ce04333": {
     "id": "3a38be73-462d-4bd3-bc0d-04c65ce04333",
     "prev": "625edeba-5762-4467-b5e6-da757b40d201",
     "regions": {
      "7fecec68-61ef-4662-8638-ea1b462db97b": {
       "attrs": {
        "height": 0.8,
        "width": 0.8,
        "x": 0.1,
        "y": 0.1
       },
       "content": {
        "cell": "82ef43d8-a2d5-4c27-95be-03718115af0a",
        "part": "whole"
       },
       "id": "7fecec68-61ef-4662-8638-ea1b462db97b"
      }
     }
    },
    "4866619b-ea19-4083-872b-e26217fd07d6": {
     "id": "4866619b-ea19-4083-872b-e26217fd07d6",
     "prev": "378d3dd8-5e34-4871-b3c3-71162d72548a",
     "regions": {
      "d394879d-4563-4934-ab03-c0f3290a81fb": {
       "attrs": {
        "height": 0.8,
        "width": 0.8,
        "x": 0.1,
        "y": 0.1
       },
       "content": {
        "cell": "1739fbe6-5eb1-4907-a671-8fd1a52717d0",
        "part": "whole"
       },
       "id": "d394879d-4563-4934-ab03-c0f3290a81fb"
      }
     }
    },
    "4d141921-550d-4f99-b6e0-0530e1282cef": {
     "id": "4d141921-550d-4f99-b6e0-0530e1282cef",
     "prev": "9f7e4d63-f4ff-4f2b-bed9-79aa97e405e9",
     "regions": {
      "5c385de0-df29-44ef-91ec-2e7ff6b8eb00": {
       "attrs": {
        "height": 0.8,
        "width": 0.8,
        "x": 0.1,
        "y": 0.1
       },
       "content": {
        "cell": "32918686-e4a1-42f5-a57b-8ba9cca066ef",
        "part": "whole"
       },
       "id": "5c385de0-df29-44ef-91ec-2e7ff6b8eb00"
      }
     }
    },
    "612a0152-4f06-4898-ab94-a05352844887": {
     "id": "612a0152-4f06-4898-ab94-a05352844887",
     "prev": "dfb2f484-78d0-4e19-b9cd-367cb3944a8a",
     "regions": {
      "cdf7736f-aa9d-4d98-9d8f-d8088361d316": {
       "attrs": {
        "height": 0.8,
        "width": 0.8,
        "x": 0.1,
        "y": 0.1
       },
       "content": {
        "cell": "971ea3d4-99ac-4476-a3aa-05be80f8cde8",
        "part": "whole"
       },
       "id": "cdf7736f-aa9d-4d98-9d8f-d8088361d316"
      }
     }
    },
    "625edeba-5762-4467-b5e6-da757b40d201": {
     "id": "625edeba-5762-4467-b5e6-da757b40d201",
     "prev": "cb44e24d-255b-40fe-af54-09def4a6c19b",
     "regions": {
      "797413f7-493e-48ec-a679-ce8ec707b62f": {
       "attrs": {
        "height": 0.8,
        "width": 0.8,
        "x": 0.1,
        "y": 0.1
       },
       "content": {
        "cell": "f96fee50-0f11-42bc-8640-66d284b5d2e0",
        "part": "whole"
       },
       "id": "797413f7-493e-48ec-a679-ce8ec707b62f"
      }
     }
    },
    "69a341a3-f479-4526-bf61-4cbb1bb98aff": {
     "id": "69a341a3-f479-4526-bf61-4cbb1bb98aff",
     "prev": "10cf155e-8094-440e-91c0-9923b8c4f069",
     "regions": {
      "65ef7735-e35c-4c4f-bb61-48dc027f921a": {
       "attrs": {
        "height": 0.8,
        "width": 0.8,
        "x": 0.1,
        "y": 0.1
       },
       "content": {
        "cell": "8a163cc5-3a8e-4c40-9b4d-220771cb484c",
        "part": "whole"
       },
       "id": "65ef7735-e35c-4c4f-bb61-48dc027f921a"
      }
     }
    },
    "6a60885d-ec97-4b06-b67d-77b6680b3c42": {
     "id": "6a60885d-ec97-4b06-b67d-77b6680b3c42",
     "prev": "bd3aa4de-c123-40f0-ab8e-d311a7ae22cf",
     "regions": {
      "01ad9eac-c2b7-4bee-97aa-0a5393db3888": {
       "attrs": {
        "height": 0.8,
        "width": 0.8,
        "x": 0.1,
        "y": 0.1
       },
       "content": {
        "cell": "897ce825-1aff-4dae-bbff-6216e1dbf8f9",
        "part": "whole"
       },
       "id": "01ad9eac-c2b7-4bee-97aa-0a5393db3888"
      }
     }
    },
    "76dcaf03-0830-44a5-b763-369747b121ac": {
     "id": "76dcaf03-0830-44a5-b763-369747b121ac",
     "prev": "9fc40cc2-dba1-418c-b78a-b19d7c737987",
     "regions": {
      "1f00709c-053b-4327-9cb8-b84bde0787a5": {
       "attrs": {
        "height": 0.8,
        "width": 0.8,
        "x": 0.1,
        "y": 0.1
       },
       "content": {
        "cell": "9debdb7a-4c25-40ba-946c-0831bc81ba78",
        "part": "whole"
       },
       "id": "1f00709c-053b-4327-9cb8-b84bde0787a5"
      }
     }
    },
    "7c6ddd82-ea5b-481b-a46d-1baa2c00a660": {
     "id": "7c6ddd82-ea5b-481b-a46d-1baa2c00a660",
     "prev": "82f683f8-145c-4e1d-ba48-53a1e8fe659d",
     "regions": {
      "4fe71655-0f0a-4621-bfcb-61a56b43ca51": {
       "attrs": {
        "height": 0.8,
        "width": 0.8,
        "x": 0.1,
        "y": 0.1
       },
       "content": {
        "cell": "1d54cfa4-ca8a-44d8-9a27-a62963a56f08",
        "part": "whole"
       },
       "id": "4fe71655-0f0a-4621-bfcb-61a56b43ca51"
      }
     }
    },
    "81b9a339-f86b-4bc5-a46c-482598686915": {
     "id": "81b9a339-f86b-4bc5-a46c-482598686915",
     "prev": "f8708676-0cf4-4a1b-9037-1fd7bd08c167",
     "regions": {
      "473d9e71-0a4d-4dab-aac7-e7b2d17c91ce": {
       "attrs": {
        "height": 0.8,
        "width": 0.8,
        "x": 0.1,
        "y": 0.1
       },
       "content": {
        "cell": "13b3feec-bd60-4598-a496-8446e4cbd1b4",
        "part": "whole"
       },
       "id": "473d9e71-0a4d-4dab-aac7-e7b2d17c91ce"
      }
     }
    },
    "8231101a-4171-46ce-bcbf-3dcad1279160": {
     "id": "8231101a-4171-46ce-bcbf-3dcad1279160",
     "prev": "f2d103d9-a124-4ec0-9f36-cb5ec715c3d9",
     "regions": {
      "9ee43f12-94b3-45c3-838a-a224342ab025": {
       "attrs": {
        "height": 0.8,
        "width": 0.8,
        "x": 0.1,
        "y": 0.1
       },
       "content": {
        "cell": "d80b8471-e3ee-4518-992b-a274aa2079a2",
        "part": "whole"
       },
       "id": "9ee43f12-94b3-45c3-838a-a224342ab025"
      }
     }
    },
    "82f683f8-145c-4e1d-ba48-53a1e8fe659d": {
     "id": "82f683f8-145c-4e1d-ba48-53a1e8fe659d",
     "prev": "69a341a3-f479-4526-bf61-4cbb1bb98aff",
     "regions": {
      "e5b63cf9-3056-4db3-9694-09b552b00794": {
       "attrs": {
        "height": 0.8,
        "width": 0.8,
        "x": 0.1,
        "y": 0.1
       },
       "content": {
        "cell": "afbd2e5e-d13b-423f-9f70-c66020c69fd5",
        "part": "whole"
       },
       "id": "e5b63cf9-3056-4db3-9694-09b552b00794"
      }
     }
    },
    "88d6d46d-6583-4a98-b5f9-21a65f45aa04": {
     "id": "88d6d46d-6583-4a98-b5f9-21a65f45aa04",
     "prev": "8231101a-4171-46ce-bcbf-3dcad1279160",
     "regions": {
      "5a241aea-91bb-4f8f-849c-5ef17a2ec9ac": {
       "attrs": {
        "height": 0.8,
        "width": 0.8,
        "x": 0.1,
        "y": 0.1
       },
       "content": {
        "cell": "6ef43971-5d2a-4423-9d91-c2f27bdb717a",
        "part": "whole"
       },
       "id": "5a241aea-91bb-4f8f-849c-5ef17a2ec9ac"
      }
     }
    },
    "9f7e4d63-f4ff-4f2b-bed9-79aa97e405e9": {
     "id": "9f7e4d63-f4ff-4f2b-bed9-79aa97e405e9",
     "prev": "bef8a830-d61f-4481-8279-d521adaa199a",
     "regions": {
      "5097f74b-2781-4921-a0ef-c17b78fb4371": {
       "attrs": {
        "height": 0.8,
        "width": 0.8,
        "x": 0.1,
        "y": 0.1
       },
       "content": {
        "cell": "6188ed11-780f-42f5-9523-e15cc0ce7baf",
        "part": "whole"
       },
       "id": "5097f74b-2781-4921-a0ef-c17b78fb4371"
      }
     }
    },
    "9fc40cc2-dba1-418c-b78a-b19d7c737987": {
     "id": "9fc40cc2-dba1-418c-b78a-b19d7c737987",
     "prev": "25eab506-9b3a-4009-a4be-ce9b0d34e49a",
     "regions": {
      "6c4eb6d2-ab47-4c1b-b168-2b1d9dce4fa7": {
       "attrs": {
        "height": 0.8,
        "width": 0.8,
        "x": 0.1,
        "y": 0.1
       },
       "content": {
        "cell": "361be7d2-7278-4b3c-af9a-d3f06722e632",
        "part": "whole"
       },
       "id": "6c4eb6d2-ab47-4c1b-b168-2b1d9dce4fa7"
      }
     }
    },
    "a17aaeb3-53e1-43fe-b91f-7885511fc72a": {
     "id": "a17aaeb3-53e1-43fe-b91f-7885511fc72a",
     "prev": "f719a07e-f10c-4107-805c-afcd2abe5788",
     "regions": {
      "5f57a615-d519-4169-a739-4befe4ac870d": {
       "attrs": {
        "height": 0.8,
        "width": 0.8,
        "x": 0.1,
        "y": 0.1
       },
       "content": {
        "cell": "73529ba6-d49a-4150-af8d-25f18b67fc12",
        "part": "whole"
       },
       "id": "5f57a615-d519-4169-a739-4befe4ac870d"
      }
     }
    },
    "b674e29e-af8d-46bc-893a-f75ba56f98b3": {
     "id": "b674e29e-af8d-46bc-893a-f75ba56f98b3",
     "prev": "76dcaf03-0830-44a5-b763-369747b121ac",
     "regions": {
      "e3abcbb0-0c6e-40f5-aba9-17fb1a0121d6": {
       "attrs": {
        "height": 0.8,
        "width": 0.8,
        "x": 0.1,
        "y": 0.1
       },
       "content": {
        "cell": "1f4593e8-b231-4ddf-abe1-d13ca0fcf9af",
        "part": "whole"
       },
       "id": "e3abcbb0-0c6e-40f5-aba9-17fb1a0121d6"
      }
     }
    },
    "bd3aa4de-c123-40f0-ab8e-d311a7ae22cf": {
     "id": "bd3aa4de-c123-40f0-ab8e-d311a7ae22cf",
     "prev": "a17aaeb3-53e1-43fe-b91f-7885511fc72a",
     "regions": {
      "4c28f171-b690-470f-a158-25376f1f06e1": {
       "attrs": {
        "height": 0.8,
        "width": 0.8,
        "x": 0.1,
        "y": 0.1
       },
       "content": {
        "cell": "25d10a4a-410d-4bc7-8d33-140e7d1de08d",
        "part": "whole"
       },
       "id": "4c28f171-b690-470f-a158-25376f1f06e1"
      }
     }
    },
    "bef8a830-d61f-4481-8279-d521adaa199a": {
     "id": "bef8a830-d61f-4481-8279-d521adaa199a",
     "prev": "612a0152-4f06-4898-ab94-a05352844887",
     "regions": {
      "cf9bdbcd-88ec-484c-aa64-3fb7ee59749b": {
       "attrs": {
        "height": 0.8,
        "width": 0.8,
        "x": 0.1,
        "y": 0.1
       },
       "content": {
        "cell": "6c3b2cd5-296a-4b31-81ae-b2c2cbc94a76",
        "part": "whole"
       },
       "id": "cf9bdbcd-88ec-484c-aa64-3fb7ee59749b"
      }
     }
    },
    "c03a785a-417b-4f9e-8469-fe6ba88c21ec": {
     "id": "c03a785a-417b-4f9e-8469-fe6ba88c21ec",
     "prev": "88d6d46d-6583-4a98-b5f9-21a65f45aa04",
     "regions": {
      "5d0649b9-ab32-4a3f-b58b-1f3e063d87d3": {
       "attrs": {
        "height": 0.8,
        "width": 0.8,
        "x": 0.1,
        "y": 0.1
       },
       "content": {
        "cell": "7c454586-9966-48ca-8b7b-f5c7ee946cbb",
        "part": "whole"
       },
       "id": "5d0649b9-ab32-4a3f-b58b-1f3e063d87d3"
      }
     }
    },
    "c7afec51-59b3-40e8-94c9-4136d21b3ee8": {
     "id": "c7afec51-59b3-40e8-94c9-4136d21b3ee8",
     "prev": "dbb69925-cc09-4908-8403-dbb18ddeec92",
     "regions": {
      "120a3426-3b2f-41df-a8e4-7d8754aec82f": {
       "attrs": {
        "height": 0.8,
        "width": 0.8,
        "x": 0.1,
        "y": 0.1
       },
       "content": {
        "cell": "8c498130-c395-4edd-ad21-e8ae561c4e67",
        "part": "whole"
       },
       "id": "120a3426-3b2f-41df-a8e4-7d8754aec82f"
      }
     }
    },
    "cb44e24d-255b-40fe-af54-09def4a6c19b": {
     "id": "cb44e24d-255b-40fe-af54-09def4a6c19b",
     "prev": "c7afec51-59b3-40e8-94c9-4136d21b3ee8",
     "regions": {
      "ae45185b-0d71-4328-9987-3963fe982376": {
       "attrs": {
        "height": 0.8,
        "width": 0.8,
        "x": 0.1,
        "y": 0.1
       },
       "content": {
        "cell": "371dea88-da59-44da-b3e7-22a1829b1e04",
        "part": "whole"
       },
       "id": "ae45185b-0d71-4328-9987-3963fe982376"
      }
     }
    },
    "dbb69925-cc09-4908-8403-dbb18ddeec92": {
     "id": "dbb69925-cc09-4908-8403-dbb18ddeec92",
     "prev": "1eb7cee8-62b6-492e-a18c-ec813dae8c13",
     "regions": {
      "098568d7-9e17-40f1-a421-58173425e512": {
       "attrs": {
        "height": 0.8,
        "width": 0.8,
        "x": 0.1,
        "y": 0.1
       },
       "content": {
        "cell": "e849e9b7-ca3b-4841-b58f-4ce559f129b6",
        "part": "whole"
       },
       "id": "098568d7-9e17-40f1-a421-58173425e512"
      }
     }
    },
    "dfb2f484-78d0-4e19-b9cd-367cb3944a8a": {
     "id": "dfb2f484-78d0-4e19-b9cd-367cb3944a8a",
     "prev": "eee31553-e9ab-47da-be15-fb5b0f27a810",
     "regions": {
      "4d86ab96-ec1f-4228-8c1e-6b00f0d84627": {
       "attrs": {
        "height": 0.8,
        "width": 0.8,
        "x": 0.1,
        "y": 0.1
       },
       "content": {
        "cell": "769469b2-5ce6-4ec4-af8b-e31cfa3615cc",
        "part": "whole"
       },
       "id": "4d86ab96-ec1f-4228-8c1e-6b00f0d84627"
      }
     }
    },
    "eee31553-e9ab-47da-be15-fb5b0f27a810": {
     "id": "eee31553-e9ab-47da-be15-fb5b0f27a810",
     "prev": "4866619b-ea19-4083-872b-e26217fd07d6",
     "regions": {
      "0c16041e-91ec-43bc-88f2-2da74f2f6f34": {
       "attrs": {
        "height": 0.8,
        "width": 0.8,
        "x": 0.1,
        "y": 0.1
       },
       "content": {
        "cell": "604f35b3-695e-40b1-a043-772b6edd126e",
        "part": "whole"
       },
       "id": "0c16041e-91ec-43bc-88f2-2da74f2f6f34"
      }
     }
    },
    "f15cfcda-7aa5-4cec-bd14-092b69d9dcba": {
     "id": "f15cfcda-7aa5-4cec-bd14-092b69d9dcba",
     "prev": "c03a785a-417b-4f9e-8469-fe6ba88c21ec",
     "regions": {
      "4b6702b5-7b38-4003-999c-6ffad99c21bc": {
       "attrs": {
        "height": 0.8,
        "width": 0.8,
        "x": 0.1,
        "y": 0.1
       },
       "content": {
        "cell": "9b7e0f20-e6a6-40d6-a50c-05d95dbdf7ed",
        "part": "whole"
       },
       "id": "4b6702b5-7b38-4003-999c-6ffad99c21bc"
      }
     }
    },
    "f1bbb795-4c5e-474c-bfb9-ab972725eda6": {
     "id": "f1bbb795-4c5e-474c-bfb9-ab972725eda6",
     "prev": "3a38be73-462d-4bd3-bc0d-04c65ce04333",
     "regions": {
      "7fe5a5de-ab67-470d-a8d8-fe57cd2c2426": {
       "attrs": {
        "height": 0.8,
        "width": 0.8,
        "x": 0.1,
        "y": 0.1
       },
       "content": {
        "cell": "70c8f52d-bc0b-4dab-85c8-256f594c2684",
        "part": "whole"
       },
       "id": "7fe5a5de-ab67-470d-a8d8-fe57cd2c2426"
      }
     }
    },
    "f2d103d9-a124-4ec0-9f36-cb5ec715c3d9": {
     "id": "f2d103d9-a124-4ec0-9f36-cb5ec715c3d9",
     "prev": "2aadde9e-5a6e-4ed6-8baa-c22c91a20b78",
     "regions": {
      "da1b7694-80f1-4d10-b998-6bfdbc662133": {
       "attrs": {
        "height": 0.8,
        "width": 0.8,
        "x": 0.1,
        "y": 0.1
       },
       "content": {
        "cell": "e70758b6-8c7b-4e91-9619-7b3ef9d99ba3",
        "part": "whole"
       },
       "id": "da1b7694-80f1-4d10-b998-6bfdbc662133"
      }
     }
    },
    "f2f11963-fa7c-4021-9361-537274772c7f": {
     "id": "f2f11963-fa7c-4021-9361-537274772c7f",
     "prev": "4d141921-550d-4f99-b6e0-0530e1282cef",
     "regions": {
      "8a184a6e-8fc8-4a48-b54a-88b5580458aa": {
       "attrs": {
        "height": 0.8,
        "width": 0.8,
        "x": 0.1,
        "y": 0.1
       },
       "content": {
        "cell": "659d52ec-b2c2-4f2b-9028-54e5d23f4309",
        "part": "whole"
       },
       "id": "8a184a6e-8fc8-4a48-b54a-88b5580458aa"
      }
     }
    },
    "f370ffbb-dc9c-4f53-9adf-b983e142cbeb": {
     "id": "f370ffbb-dc9c-4f53-9adf-b983e142cbeb",
     "prev": "b674e29e-af8d-46bc-893a-f75ba56f98b3",
     "regions": {
      "c9b0283e-92e7-4844-899a-545245badd0f": {
       "attrs": {
        "height": 0.8,
        "width": 0.8,
        "x": 0.1,
        "y": 0.1
       },
       "content": {
        "cell": "35b4578b-12ac-4964-a2f7-5898b81d90c6",
        "part": "whole"
       },
       "id": "c9b0283e-92e7-4844-899a-545245badd0f"
      }
     }
    },
    "f5493cbb-ecd4-45a5-b6af-d71e0234d903": {
     "id": "f5493cbb-ecd4-45a5-b6af-d71e0234d903",
     "prev": "069b0082-b957-49db-8d01-b803a890d555",
     "regions": {
      "fa235dab-f4bd-4d35-b7de-c637809d1b97": {
       "attrs": {
        "height": 0.8,
        "width": 0.8,
        "x": 0.1,
        "y": 0.1
       },
       "content": {
        "cell": "9debdb7a-4c25-40ba-946c-0831bc81ba78",
        "part": "whole"
       },
       "id": "fa235dab-f4bd-4d35-b7de-c637809d1b97"
      }
     }
    },
    "f719a07e-f10c-4107-805c-afcd2abe5788": {
     "id": "f719a07e-f10c-4107-805c-afcd2abe5788",
     "prev": "f15cfcda-7aa5-4cec-bd14-092b69d9dcba",
     "regions": {
      "1bc8eee4-2d80-494e-941a-1ca24326df6c": {
       "attrs": {
        "height": 0.8,
        "width": 0.8,
        "x": 0.1,
        "y": 0.1
       },
       "content": {
        "cell": "edbb4923-29fd-447f-ac5e-e94203ac6892",
        "part": "whole"
       },
       "id": "1bc8eee4-2d80-494e-941a-1ca24326df6c"
      }
     }
    },
    "f8708676-0cf4-4a1b-9037-1fd7bd08c167": {
     "id": "f8708676-0cf4-4a1b-9037-1fd7bd08c167",
     "prev": "f370ffbb-dc9c-4f53-9adf-b983e142cbeb",
     "regions": {
      "0dea5973-c177-462d-9030-836e0555c062": {
       "attrs": {
        "height": 0.8,
        "width": 0.8,
        "x": 0.1,
        "y": 0.1
       },
       "content": {
        "cell": "e4f74418-1db6-4355-a84b-238027210f4c",
        "part": "whole"
       },
       "id": "0dea5973-c177-462d-9030-836e0555c062"
      }
     }
    }
   },
   "themes": {}
  }
 },
 "nbformat": 4,
 "nbformat_minor": 2
}

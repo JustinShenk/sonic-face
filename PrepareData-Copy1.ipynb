{
 "cells": [
  {
   "cell_type": "markdown",
   "metadata": {},
   "source": [
    "## Load the Motion Data\n",
    "\n",
    "Data is in x and y coordinates for each pixel. Each sample will be an array of 10 (frames) x 40 x 40 (capture window) x 2 (x and y) dimensions. "
   ]
  },
  {
   "cell_type": "code",
   "execution_count": 47,
   "metadata": {
    "collapsed": false
   },
   "outputs": [],
   "source": [
    "import numpy as np\n",
    "import os\n",
    "import matplotlib\n",
    "import pandas as pd\n",
    "matplotlib.use('TkAgg') # For displaying animation\n",
    "import matplotlib.pyplot as plt\n",
    "import matplotlib.animation as animation\n",
    "\n",
    "from sklearn.tree import DecisionTreeClassifier, export_graphviz\n",
    "from sklearn.neural_network import MLPClassifier as mlpc\n",
    "from helper_functions import *\n",
    "from normalize_data import *\n",
    "from integral_try import *\n",
    "from numpy import array\n",
    "from sklearn import preprocessing as pp\n",
    "from sklearn.ensemble import RandomForestClassifier\n",
    "from sklearn import ensemble as ensemble\n",
    "from sklearn.model_selection import train_test_split"
   ]
  },
  {
   "cell_type": "code",
   "execution_count": 26,
   "metadata": {
    "collapsed": false
   },
   "outputs": [
    {
     "name": "stdout",
     "output_type": "stream",
     "text": [
      "Incomplete data sample found at  C:\\Users\\kle\\Documents\\sonic-face\\sonic_pi_face\\data\\2017-06-13_113507_waving-beauty-pageant-style.txt\n",
      "Incomplete data sample found at  C:\\Users\\kle\\Documents\\sonic-face\\sonic_pi_face\\data\\2017-06-13_113523_waving-beauty-pageant-style.txt\n",
      "Incomplete data sample found at  C:\\Users\\kle\\Documents\\sonic-face\\sonic_pi_face\\data\\2017-06-13_112555_slide-vertically.txt\n",
      "Incomplete data sample found at  C:\\Users\\kle\\Documents\\sonic-face\\sonic_pi_face\\data\\2017-06-13_112621_slide-vertically.txt\n",
      "Incomplete data sample found at  C:\\Users\\kle\\Documents\\sonic-face\\sonic_pi_face\\data\\2017-06-13_112807_slide-vertically.txt\n",
      "Incomplete data sample found at  C:\\Users\\kle\\Documents\\sonic-face\\sonic_pi_face\\data\\2017-06-13_113118_slide-vertically.txt\n",
      "Incomplete data sample found at  C:\\Users\\kle\\Documents\\sonic-face\\sonic_pi_face\\data\\2017-06-13_113226_slide-vertically.txt\n",
      "Incomplete data sample found at  C:\\Users\\kle\\Documents\\sonic-face\\sonic_pi_face\\data\\2017-06-12_135653_slide-horizontally.txt\n",
      "(122, 10, 40, 40, 2)\n",
      "(10, 40, 40, 2)\n",
      "Example integral of the 1st quarter of one frame:  [ 268.3002 -414.9157]\n"
     ]
    }
   ],
   "source": [
    "data_dir = 'sonic_pi_face/data/'\n",
    "\n",
    "# Get list of data files\n",
    "data_files = get_data_files(data_dir)\n",
    "\n",
    "# Load data into a dictionary\n",
    "# Note: Checks for incomplete data\n",
    "data = get_gesture_data(data_files)\n",
    "\n",
    "# Normalize data across data samples and frames (x and y will be normalized independently)\n",
    "# data = normalize_data(data)\n",
    "print(np.shape(data['open-close']))\n",
    "\n",
    "# Load first data sample from `open-close`\n",
    "sample = data['open-close'][0]\n",
    "print(np.shape(sample))\n",
    "\n",
    "# calculate the integral image\n",
    "iimage = i_image(sample[4])\n",
    "\n",
    "# calculate the integral for the first quarter from the integral image\n",
    "try_integral = get_integral(iimage,0,0,20,20)\n",
    "\n",
    "print('Example integral of the 1st quarter of one frame: ' , try_integral)"
   ]
  },
  {
   "cell_type": "markdown",
   "metadata": {},
   "source": [
    "## Visualize horizontal motion across frames"
   ]
  },
  {
   "cell_type": "code",
   "execution_count": 27,
   "metadata": {
    "collapsed": false,
    "scrolled": false
   },
   "outputs": [],
   "source": [
    "sample = data['open-close'][121] # Fifth sample\n",
    "frame = sample[5][:,:,0] # Middle frame\n",
    "# Note: Second argument takes 0 for `x`, 1 for `y` coordinate\n",
    "# display_frames(sample,0) "
   ]
  },
  {
   "cell_type": "markdown",
   "metadata": {},
   "source": [
    "## Random forest classification"
   ]
  },
  {
   "cell_type": "markdown",
   "metadata": {},
   "source": [
    "Create training and test data split for classification"
   ]
  },
  {
   "cell_type": "code",
   "execution_count": 28,
   "metadata": {
    "collapsed": true
   },
   "outputs": [],
   "source": [
    "def get_data(data, key):\n",
    "    data_list = data[key]\n",
    "    data_array = np.asarray(data_list)\n",
    "\n",
    "    # Flatten array to n x 32000\n",
    "    flattened_data = data_array.reshape((len(data_array),10*1600*2))\n",
    "    return flattened_data\n",
    "\n",
    "def scale(data, target_gesture):\n",
    "    data *= (np.max(target_gesture) + np.abs(np.min(target_gesture))) - np.min(target_gesture)\n",
    "    return data"
   ]
  },
  {
   "cell_type": "code",
   "execution_count": 29,
   "metadata": {
    "collapsed": false
   },
   "outputs": [],
   "source": [
    "# Load target gesture data\n",
    "open_close_X = get_data(data, 'open-close')\n",
    "open_close_Y = np.ones((len(open_close_X)))"
   ]
  },
  {
   "cell_type": "code",
   "execution_count": 30,
   "metadata": {
    "collapsed": false
   },
   "outputs": [],
   "source": [
    "# Load empty (no-gesture) data\n",
    "empty_X = get_data(data, 'empty')\n",
    "empty_Y = np.zeros(len(empty_X))"
   ]
  },
  {
   "cell_type": "code",
   "execution_count": 31,
   "metadata": {
    "collapsed": false
   },
   "outputs": [],
   "source": [
    "# Load other gesture\n",
    "slide_horizontal_X = get_data(data,'slide-horizontally')\n",
    "slide_horizontal_Y = np.zeros((len(slide_horizontal_X)))"
   ]
  },
  {
   "cell_type": "code",
   "execution_count": 44,
   "metadata": {
    "collapsed": false
   },
   "outputs": [],
   "source": [
    "beauty_pageant_X = get_data(data, 'waving-beauty-pageant-style')\n",
    "beauty_pageant_Y = np.zeros((len(beauty_pageant_X)))"
   ]
  },
  {
   "cell_type": "code",
   "execution_count": 49,
   "metadata": {
    "collapsed": false
   },
   "outputs": [
    {
     "name": "stdout",
     "output_type": "stream",
     "text": [
      "0.956896551724\n",
      "Predictions:\n",
      "[ 0.  1.  1.  0.  0.  0.  0.  0.  0.  1.  0.  0.  1.  0.  0.  0.  1.  1.\n",
      "  0.  0.  0.  1.  0.  0.  0.  0.  0.  0.  0.  1.  0.  0.  1.  0.  0.  0.\n",
      "  1.  1.  0.  1.  0.  0.  0.  0.  0.  1.  0.  1.  0.  0.  0.  1.  0.  0.\n",
      "  0.  0.  0.  0.  0.  0.  1.  0.  1.  0.  1.  0.  0.  1.  0.  0.  1.  0.\n",
      "  0.  0.  1.  0.  0.  1.  0.  0.  0.  1.  0.  1.  0.  0.  0.  0.  1.  0.\n",
      "  1.  0.  0.  0.  0.  1.  0.  0.  1.  1.  1.  0.  1.  0.  1.  0.  0.  0.\n",
      "  1.  1.  0.  0.  0.  0.  0.  0.]\n",
      "Actual:\n",
      "[ 0.  1.  1.  0.  0.  0.  0.  0.  0.  1.  0.  0.  1.  0.  0.  0.  1.  1.\n",
      "  0.  1.  0.  1.  0.  0.  0.  0.  0.  0.  1.  1.  0.  0.  1.  0.  0.  0.\n",
      "  1.  1.  0.  1.  0.  0.  0.  0.  0.  1.  0.  1.  0.  0.  0.  1.  0.  0.\n",
      "  0.  0.  0.  1.  0.  0.  0.  0.  1.  0.  1.  0.  0.  1.  0.  0.  1.  0.\n",
      "  0.  0.  1.  0.  0.  1.  0.  0.  0.  1.  0.  1.  0.  0.  0.  0.  1.  0.\n",
      "  1.  0.  0.  0.  0.  1.  0.  0.  1.  1.  1.  0.  1.  1.  1.  0.  0.  0.\n",
      "  1.  1.  0.  0.  0.  0.  0.  0.]\n"
     ]
    }
   ],
   "source": [
    "# TODO: Evaluate mock data aids classification in practice\n",
    "# create random mock data\n",
    "# sham_X = np.random.randn(*open_close_X.shape)\n",
    "# # scale as original data\n",
    "# sham_X = scale(sham_X, open_close_X)\n",
    "# sham_Y = np.zeros((len(sham_X)))\n",
    "\n",
    "X = np.vstack([open_close_X, empty_X, slide_horizontal_X, beauty_pageant_X])\n",
    "Y = np.hstack([open_close_Y, empty_Y, slide_horizontal_Y, beauty_pageant_Y])\n",
    "\n",
    "# Split data into train and test\n",
    "X_train, X_test, y_train, y_test = train_test_split(X, Y, random_state=42)\n",
    "\n",
    "clf_forest = RandomForestClassifier(n_estimators=10)\n",
    "clf_forest = clf_forest.fit(X_train, y_train)\n",
    "print(clf_forest.score(X_test,y_test))\n",
    "\n",
    "print(\"Predictions:\\n{}\".format(clf_adaboost.predict(X_test)))\n",
    "print(\"Actual:\\n{}\".format(y_test))\n",
    "\n",
    "\n"
   ]
  },
  {
   "cell_type": "code",
   "execution_count": null,
   "metadata": {
    "collapsed": true
   },
   "outputs": [],
   "source": [
    "clf_adaboost = ensemble.AdaBoostClassifier()\n",
    "clf_adaboost = clf_adaboost.fit(X_train, y_train)\n",
    "\n",
    "print(clf_adaboost.score(X_test,y_test))"
   ]
  },
  {
   "cell_type": "code",
   "execution_count": null,
   "metadata": {
    "collapsed": false
   },
   "outputs": [],
   "source": [
    "clf_bagging = ensemble.BaggingClassifier()\n",
    "clf_bagging = clf_bagging.fit(X_train, y_train)\n",
    "print(clf_bagging.score(X_test,y_test))\n"
   ]
  },
  {
   "cell_type": "code",
   "execution_count": 54,
   "metadata": {
    "collapsed": false
   },
   "outputs": [
    {
     "name": "stdout",
     "output_type": "stream",
     "text": [
      "0.948275862069\n"
     ]
    }
   ],
   "source": [
    "clf_extra_tree = ensemble.ExtraTreesClassifier()\n",
    "clf_extra_tree = clf_extra_tree.fit(X_train, y_train)\n",
    "print(clf_extra_tree.score(X_test,y_test))\n",
    "# print(\"Predictions:\\n{}\".format(clf_bagging.predict(X_test)))\n",
    "# print(\"Actual:\\n{}\".format(y_test))"
   ]
  },
  {
   "cell_type": "code",
   "execution_count": 55,
   "metadata": {
    "collapsed": false
   },
   "outputs": [
    {
     "name": "stdout",
     "output_type": "stream",
     "text": [
      "0.922413793103\n"
     ]
    }
   ],
   "source": [
    "clf_gradient_boosting = ensemble.GradientBoostingClassifier()\n",
    "clf_gradient_boosting = clf_gradient_boosting.fit(X_train, y_train)\n",
    "print(clf_gradient_boosting.score(X_test,y_test))\n",
    "# print(\"Predictions:\\n{}\".format(clf_bagging.predict(X_test)))\n",
    "# print(\"Actual:\\n{}\".format(y_test))"
   ]
  },
  {
   "cell_type": "markdown",
   "metadata": {},
   "source": [
    "## Pandas dataframes for organizing the data"
   ]
  },
  {
   "cell_type": "code",
   "execution_count": 33,
   "metadata": {
    "collapsed": false
   },
   "outputs": [],
   "source": [
    "# TODO: Convert all code to pandas for flexibility and display\n",
    "label = pd.Series(['Open']*len(open_close_X))\n",
    "df_open = pd.DataFrame(open_close_X)\n",
    "df_open['label'] = label\n",
    "\n",
    "label = pd.Series(['Empty']*len(empty_X))\n",
    "df_empty = pd.DataFrame(empty_X)\n",
    "df_empty['label'] = label\n",
    "\n",
    "label = pd.Series(['Slide-H']*len(slide_horizontal_X))\n",
    "df_slide_h = pd.DataFrame(slide_horizontal_X)\n",
    "df_slide_h['label'] = label\n",
    "\n",
    "df_X = pd.DataFrame()\n",
    "df_X = df_X.append([df_open,df_empty,df_slide_h])\n",
    "\n",
    "def encode_target(df, target_column):\n",
    "    \"\"\"Add column to df with integers for the target.\n",
    "\n",
    "    Args\n",
    "    ----\n",
    "    df -- pandas DataFrame.\n",
    "    target_column -- column to map to int, producing\n",
    "                     new Target column.\n",
    "\n",
    "    Returns\n",
    "    -------\n",
    "    df_mod -- modified DataFrame.\n",
    "    targets -- list of target names.\n",
    "    \"\"\"\n",
    "    df_mod = df.copy()\n",
    "    targets = df_mod[target_column].unique()\n",
    "    map_to_int = {name: n for n, name in enumerate(targets)}\n",
    "    df_mod[\"Target\"] = df_mod[target_column].replace(map_to_int)\n",
    "\n",
    "    return (df_mod, targets)\n",
    "\n",
    "df2, targets = encode_target(df_X, \"label\")"
   ]
  },
  {
   "cell_type": "code",
   "execution_count": null,
   "metadata": {
    "collapsed": true
   },
   "outputs": [],
   "source": []
  },
  {
   "cell_type": "markdown",
   "metadata": {},
   "source": [
    "## [WIP] Decision Tree Visualization\n"
   ]
  },
  {
   "cell_type": "code",
   "execution_count": 34,
   "metadata": {
    "collapsed": false
   },
   "outputs": [],
   "source": [
    "# FIXME: Test once number of features is less than 360\n",
    "\n",
    "# Get features\n",
    "features = df2.columns[:-2]\n",
    "y = df2[\"Target\"]\n",
    "dt = DecisionTreeClassifier(min_samples_split=20, random_state=99)\n",
    "dt.fit(X, y)\n",
    "\n",
    "def visualize_tree(tree, feature_names):\n",
    "    \"\"\"Create tree png using graphviz.\n",
    "\n",
    "    Args\n",
    "    ----\n",
    "    tree -- scikit-learn DecsisionTree.\n",
    "    feature_names -- list of feature names.\n",
    "    \"\"\"\n",
    "    with open(\"dt.dot\", 'w') as f:\n",
    "        export_graphviz(tree, out_file=f,\n",
    "                        feature_names=feature_names)\n",
    "\n",
    "    command = [\"dot\", \"-Tpng\", \"dt.dot\", \"-o\", \"dt.png\"]\n",
    "    try:\n",
    "        subprocess.check_call(command)\n",
    "    except:\n",
    "        exit(\"Could not run dot, ie graphviz, to \"\n",
    "             \"produce visualization\")\n",
    "visualize_tree(dt,features)"
   ]
  },
  {
   "cell_type": "markdown",
   "metadata": {},
   "source": [
    "## SVM"
   ]
  },
  {
   "cell_type": "markdown",
   "metadata": {},
   "source": [
    "## Logistic Regression"
   ]
  },
  {
   "cell_type": "markdown",
   "metadata": {},
   "source": [
    "## Decision Jungle"
   ]
  },
  {
   "cell_type": "markdown",
   "metadata": {},
   "source": [
    "## NN"
   ]
  },
  {
   "cell_type": "code",
   "execution_count": null,
   "metadata": {
    "collapsed": true
   },
   "outputs": [],
   "source": []
  },
  {
   "cell_type": "code",
   "execution_count": null,
   "metadata": {
    "collapsed": true
   },
   "outputs": [],
   "source": []
  },
  {
   "cell_type": "code",
   "execution_count": null,
   "metadata": {
    "collapsed": true
   },
   "outputs": [],
   "source": []
  }
 ],
 "metadata": {
  "anaconda-cloud": {},
  "kernelspec": {
   "display_name": "Python [Root]",
   "language": "python",
   "name": "Python [Root]"
  },
  "language_info": {
   "codemirror_mode": {
    "name": "ipython",
    "version": 3
   },
   "file_extension": ".py",
   "mimetype": "text/x-python",
   "name": "python",
   "nbconvert_exporter": "python",
   "pygments_lexer": "ipython3",
   "version": "3.5.2"
  }
 },
 "nbformat": 4,
 "nbformat_minor": 2
}

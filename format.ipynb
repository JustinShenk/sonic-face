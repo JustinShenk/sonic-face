{
 "cells": [
  {
   "cell_type": "code",
   "execution_count": null,
   "metadata": {},
   "outputs": [],
   "source": [
    "import numpy as np\n",
    "import os\n",
    "from helper_functions import *\n",
    "from integral_try import *\n",
    "from numpy import array\n",
    "import pandas as pd \n",
    "\n",
    "data_dir = 'sonic_pi_face/data/'\n",
    "filename = 'data-18-41-23-5-2017.txt'\n",
    "data = load_data(data_dir,filename)\n",
    "\n",
    "# calculate the integral image\n",
    "iimage = i_image(data[4])\n",
    "\n",
    "# calculate the integral for the all quarters from the integral image\n",
    "quarter1 = get_integral(iimage,0,0,19,19)\n",
    "quarter2 = get_integral(iimage,0,19,19,39)\n",
    "quarter3 = get_integral(iimage,19,0,39,19)\n",
    "quarter4 = get_integral(iimage,19,19,39,39)\n",
    "\n",
    "integral_sample = array([[quarter1, quarter2],[quarter3,quarter4]])\n",
    "\n",
    "# this requires a 2-d input, which i have to build somehow \n",
    "#df = pd.DataFrame(integral_sample)\n",
    "#df.to_csv(\"datasetfiletry.csv\")\n"
   ]
  },
  {
   "cell_type": "code",
   "execution_count": null,
   "metadata": {
    "collapsed": true
   },
   "outputs": [],
   "source": []
  }
 ],
 "metadata": {
  "kernelspec": {
   "display_name": "Python 3",
   "language": "python",
   "name": "python3"
  },
  "language_info": {
   "codemirror_mode": {
    "name": "ipython",
    "version": 3
   },
   "file_extension": ".py",
   "mimetype": "text/x-python",
   "name": "python",
   "nbconvert_exporter": "python",
   "pygments_lexer": "ipython3",
   "version": "3.6.1"
  }
 },
 "nbformat": 4,
 "nbformat_minor": 2
}
